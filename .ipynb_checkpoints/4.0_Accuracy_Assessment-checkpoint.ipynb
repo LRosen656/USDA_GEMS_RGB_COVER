{
 "cells": [
  {
   "cell_type": "markdown",
   "id": "c56a94dd",
   "metadata": {},
   "source": [
    "# Accuracy Assessment \n",
    "\n",
    "This notebook uses the spreadsheets created in \"Ground_Truth.ipynb\" to find accuracy of each image, index and threshold. First, the overall accuracy from Scikit Learn will be collected from each image and exported to a spreadsheed. Then, a confusion maxrix will be made for each threshold and the overall, precision, and recall accuracy will be collected and exported to spreadsheet. \n",
    "\n",
    "-Luke Rosen\n",
    "\n",
    "5/12/2022"
   ]
  },
  {
   "cell_type": "code",
   "execution_count": 1,
   "id": "295baaaf",
   "metadata": {},
   "outputs": [],
   "source": [
    "from sklearn.metrics import confusion_matrix, ConfusionMatrixDisplay, accuracy_score, precision_score, recall_score  \n",
    "import matplotlib.pyplot as plt\n",
    "import numpy as np\n",
    "import pandas as pd\n",
    "import os\n",
    "from datetime import datetime\n",
    "import glob"
   ]
  },
  {
   "cell_type": "code",
   "execution_count": 2,
   "id": "fbb6f7bf",
   "metadata": {},
   "outputs": [],
   "source": [
    "src = \"./Stats/\""
   ]
  },
  {
   "cell_type": "code",
   "execution_count": 3,
   "id": "0337fd56",
   "metadata": {},
   "outputs": [],
   "source": [
    "Image= []\n",
    "\n",
    "Plot = []\n",
    "\n",
    "Date_index = []\n",
    "\n",
    "Date = []\n",
    "\n",
    "Variety = []\n",
    "\n",
    "Cover = []\n",
    "\n",
    "y_exg_L = []\n",
    "\n",
    "y_exgr_L = []\n",
    "\n",
    "y_gli_L = []\n",
    "\n",
    "y_vari_L = []\n",
    "\n",
    "y_exg_G = []\n",
    "\n",
    "y_exgr_G = []\n",
    "\n",
    "y_gli_G = []\n",
    "\n",
    "y_vari_G = []\n",
    "\n",
    "y_exg_Z = []\n",
    "\n",
    "y_exgr_Z = []\n",
    "\n",
    "y_gli_Z = []\n",
    "\n",
    "y_vari_Z = []\n",
    "\n",
    "for stat in glob.glob(src +  \"\\*.csv\"):\n",
    "\n",
    "    gt = pd.read_csv(stat)\n",
    "    end_path = stat.split(\"\\\\\")\n",
    "    name = end_path.split(\".\")[0]     ##Removes the \"csv\"\n",
    "    Image.append(name)            ##Plot_Date\n",
    "    plot, date = name.split(\"_\")  ## [plot, date]\n",
    "    Plot.append(plot)\n",
    "    Date_index.append(date)\n",
    "    new_date = datetime.strptime(str(date), \"%Y%m%d\").strftime(\"%m/%d/%Y\") # yyyymmdd to dd/mm/yyyy\n",
    "    Date.append(new_date)\n",
    "    if plot.startswith(\"106\") or plot.startswith(\"203\") or plot.startswith(\"303\") or plot.startswith(\"404\"): ##Conditions of variety\n",
    "        crop = \"Soy\"\n",
    "        Variety.append(crop)\n",
    "    else:\n",
    "        crop = \"Oat\"\n",
    "        Variety.append(crop)\n",
    "    if plot.startswith(\"1\") and plot.endswith(\"A\") or not plot.startswith(\"1\") and plot.endswith(\"B\"): ##Conditions of cover\n",
    "        cover = \"Fallow\"\n",
    "        Cover.append(cover)\n",
    "    elif plot.startswith(\"1\") and plot.endswith(\"C\") or plot.startswith(\"3\") and plot.endswith(\"C\") or plot.startswith(\"2\") and plot.endswith(\"A\") or plot.startswith(\"4\") and plot.endswith(\"A\"):\n",
    "        cover = \"Under\"\n",
    "        Cover.append(cover)\n",
    "    else:\n",
    "        cover = \"Post\"\n",
    "        Cover.append(cover)\n",
    "    y_exg_L.append(accuracy_score(gt.Reference, gt.Predicted_EXG_L))     ##EXG_Local\n",
    "    y_exgr_L.append(accuracy_score(gt.Reference, gt.Predicted_EXGR_L))   ##EXGR_Local\n",
    "    y_gli_L.append(accuracy_score(gt.Reference, gt.Predicted_GLI_L))     ##GLI_Local\n",
    "    y_vari_L.append(accuracy_score(gt.Reference, gt.Predicted_VARI_L))   ##VARI_Local\n",
    "    y_exg_G.append(accuracy_score(gt.Reference, gt.Predicted_EXG_G))     ##EXG_Global\n",
    "    y_exgr_G.append(accuracy_score(gt.Reference, gt.Predicted_EXGR_G))   ##EXGR_Global\n",
    "    y_gli_G.append(accuracy_score(gt.Reference, gt.Predicted_GLI_G))     ##GLI_Global\n",
    "    y_vari_G.append(accuracy_score(gt.Reference, gt.Predicted_VARI_G))   ##VARI_Glboal\n",
    "    y_exg_Z.append(accuracy_score(gt.Reference, gt.Predicted_EXG_Z))     ##EXG_Zero\n",
    "    y_exgr_Z.append(accuracy_score(gt.Reference, gt.Predicted_EXGR_Z))   ##EXGR_Zero\n",
    "    y_gli_Z.append(accuracy_score(gt.Reference, gt.Predicted_GLI_Z))     ##GLI_Zero\n",
    "    y_vari_Z.append(accuracy_score(gt.Reference, gt.Predicted_VARI_Z))   ##VARI_Zero\n",
    "\n",
    "local_df = pd.DataFrame({\"Image\":Image, \"Plot\":Plot, \"Date_Index\":Date_index, \"Date\":Date, \"Variety\":Variety, \"EXG_Local_AC\":y_exg_L, \"EXGR_Local_AC\":y_exgr_L, \"GLI_Local_AC\":y_gli_L, \"VARI_Local_AC\":y_vari_L,\n",
    "                        \"EXG_Global_AC\":y_exg_G, \"EXGR_Global_AC\":y_exgr_G, \"GLI_Global_AC\":y_gli_G, \"VARI_Global_AC\":y_vari_G,\n",
    "                        \"EXG_Zero_AC\":y_exg_Z, \"EXGR_Zero_AC\":y_exgr_Z, \"GLI_Zero_AC\":y_gli_Z, \"VARI_Zero_AC\":y_vari_Z})"
   ]
  },
  {
   "cell_type": "code",
   "execution_count": 4,
   "id": "64dfadc7",
   "metadata": {},
   "outputs": [],
   "source": [
    "local_df.to_csv(\"./Image_Stats.csv\", index = False)"
   ]
  },
  {
   "cell_type": "code",
   "execution_count": 5,
   "id": "38b5c720",
   "metadata": {},
   "outputs": [],
   "source": [
    "\n",
    "image = []\n",
    "\n",
    "y_true = []\n",
    "\n",
    "y_pred_exg_L = []\n",
    "\n",
    "y_pred_exgr_L = []\n",
    "\n",
    "y_pred_gli_L = []\n",
    "\n",
    "y_pred_vari_L = []\n",
    "\n",
    "y_pred_exg_G = []\n",
    "\n",
    "y_pred_exgr_G = []\n",
    "\n",
    "y_pred_gli_G = []\n",
    "\n",
    "y_pred_vari_G = []\n",
    "\n",
    "y_pred_exg_Z = []\n",
    "\n",
    "y_pred_exgr_Z = []\n",
    "\n",
    "y_pred_gli_Z = []\n",
    "\n",
    "y_pred_vari_Z = []\n",
    "\n",
    "for stat in glob.glob(src + \"*.csv\"):\n",
    "\n",
    "    gt = pd.read_csv(stat)\n",
    "    end_path = stat.split(\"\\\\\")\n",
    "\n",
    "\n",
    "    for index, row in gt.iterrows():\n",
    "        image.append(stat.split(\".\")[0])                          ##plot_date\n",
    "        y_true.append(row[\"Reference\"].astype(int))               ##Reference\n",
    "        y_pred_exg_L.append(row[\"Predicted_EXG_L\"].astype(int))   ##EXG_Local\n",
    "        y_pred_exgr_L.append(row[\"Predicted_EXGR_L\"].astype(int)) ##EXGR_Local\n",
    "        y_pred_gli_L.append(row[\"Predicted_GLI_L\"].astype(int))   ##GLI_Local\n",
    "        y_pred_vari_L.append(row[\"Predicted_VARI_L\"].astype(int)) ##VARI_Local\n",
    "        y_pred_exg_G.append(row[\"Predicted_EXG_G\"].astype(int))   ##EXG_Global\n",
    "        y_pred_exgr_G.append(row[\"Predicted_EXGR_G\"].astype(int)) ##EXGR_Global\n",
    "        y_pred_gli_G.append(row[\"Predicted_GLI_G\"].astype(int))   ##GLI_Global\n",
    "        y_pred_vari_G.append(row[\"Predicted_VARI_G\"].astype(int)) ##VARI_Global       \n",
    "        y_pred_exg_Z.append(row[\"Predicted_EXG_Z\"].astype(int))   ##EXG_Zero\n",
    "        y_pred_exgr_Z.append(row[\"Predicted_EXGR_Z\"].astype(int)) ##EXGR_Zero\n",
    "        y_pred_gli_Z.append(row[\"Predicted_GLI_Z\"].astype(int))   ##GLI_Zero\n",
    "        y_pred_vari_Z.append(row[\"Predicted_VARI_Z\"].astype(int)) ##VARI_Zero\n",
    "\n",
    "stats_df = pd.DataFrame({\"Image\": image, \"Reference\": y_true, \"Predicted_EXG_L\":y_pred_exg_L, \n",
    "                                   \"Predicted_EXGR_L\":y_pred_exgr_L, \"Predicted_GLI_L\": y_pred_gli_L, \n",
    "                         \"Predicted_VARI_L\":y_pred_vari_L, \"Predicted_EXG_G\": y_pred_exg_G, \"Predicted_EXGR_G\":y_pred_exgr_G,\n",
    "                        \"Predicted_GLI_G\":y_pred_gli_G, \"Predicted_VARI_G\":y_pred_vari_G,\n",
    "                        \"Predicted_EXG_Z\":y_pred_exg_Z, \"Predicted_EXGR_Z\":y_pred_exgr_Z, \"Predicted_GLI_Z\":y_pred_gli_Z,\n",
    "                        \"Predicted_VARI_Z\":y_pred_vari_Z})        "
   ]
  },
  {
   "cell_type": "code",
   "execution_count": 6,
   "id": "b07ae08f",
   "metadata": {},
   "outputs": [
    {
     "data": {
      "text/html": [
       "<div>\n",
       "<style scoped>\n",
       "    .dataframe tbody tr th:only-of-type {\n",
       "        vertical-align: middle;\n",
       "    }\n",
       "\n",
       "    .dataframe tbody tr th {\n",
       "        vertical-align: top;\n",
       "    }\n",
       "\n",
       "    .dataframe thead th {\n",
       "        text-align: right;\n",
       "    }\n",
       "</style>\n",
       "<table border=\"1\" class=\"dataframe\">\n",
       "  <thead>\n",
       "    <tr style=\"text-align: right;\">\n",
       "      <th></th>\n",
       "      <th>Image</th>\n",
       "      <th>Reference</th>\n",
       "      <th>Predicted_EXG_L</th>\n",
       "      <th>Predicted_EXGR_L</th>\n",
       "      <th>Predicted_GLI_L</th>\n",
       "      <th>Predicted_VARI_L</th>\n",
       "      <th>Predicted_EXG_G</th>\n",
       "      <th>Predicted_EXGR_G</th>\n",
       "      <th>Predicted_GLI_G</th>\n",
       "      <th>Predicted_VARI_G</th>\n",
       "      <th>Predicted_EXG_Z</th>\n",
       "      <th>Predicted_EXGR_Z</th>\n",
       "      <th>Predicted_GLI_Z</th>\n",
       "      <th>Predicted_VARI_Z</th>\n",
       "    </tr>\n",
       "  </thead>\n",
       "  <tbody>\n",
       "    <tr>\n",
       "      <th>0</th>\n",
       "      <td>302A_20210708</td>\n",
       "      <td>1</td>\n",
       "      <td>1</td>\n",
       "      <td>1</td>\n",
       "      <td>1</td>\n",
       "      <td>1</td>\n",
       "      <td>0</td>\n",
       "      <td>0</td>\n",
       "      <td>0</td>\n",
       "      <td>1</td>\n",
       "      <td>1</td>\n",
       "      <td>0</td>\n",
       "      <td>1</td>\n",
       "      <td>0</td>\n",
       "    </tr>\n",
       "    <tr>\n",
       "      <th>1</th>\n",
       "      <td>302A_20210708</td>\n",
       "      <td>0</td>\n",
       "      <td>1</td>\n",
       "      <td>1</td>\n",
       "      <td>1</td>\n",
       "      <td>1</td>\n",
       "      <td>0</td>\n",
       "      <td>0</td>\n",
       "      <td>0</td>\n",
       "      <td>1</td>\n",
       "      <td>1</td>\n",
       "      <td>0</td>\n",
       "      <td>1</td>\n",
       "      <td>0</td>\n",
       "    </tr>\n",
       "    <tr>\n",
       "      <th>2</th>\n",
       "      <td>302A_20210708</td>\n",
       "      <td>1</td>\n",
       "      <td>1</td>\n",
       "      <td>1</td>\n",
       "      <td>1</td>\n",
       "      <td>1</td>\n",
       "      <td>0</td>\n",
       "      <td>0</td>\n",
       "      <td>0</td>\n",
       "      <td>1</td>\n",
       "      <td>1</td>\n",
       "      <td>0</td>\n",
       "      <td>1</td>\n",
       "      <td>0</td>\n",
       "    </tr>\n",
       "    <tr>\n",
       "      <th>3</th>\n",
       "      <td>302A_20210708</td>\n",
       "      <td>0</td>\n",
       "      <td>1</td>\n",
       "      <td>1</td>\n",
       "      <td>1</td>\n",
       "      <td>1</td>\n",
       "      <td>0</td>\n",
       "      <td>0</td>\n",
       "      <td>0</td>\n",
       "      <td>1</td>\n",
       "      <td>1</td>\n",
       "      <td>1</td>\n",
       "      <td>1</td>\n",
       "      <td>0</td>\n",
       "    </tr>\n",
       "    <tr>\n",
       "      <th>4</th>\n",
       "      <td>302A_20210708</td>\n",
       "      <td>1</td>\n",
       "      <td>1</td>\n",
       "      <td>1</td>\n",
       "      <td>1</td>\n",
       "      <td>1</td>\n",
       "      <td>0</td>\n",
       "      <td>0</td>\n",
       "      <td>0</td>\n",
       "      <td>1</td>\n",
       "      <td>1</td>\n",
       "      <td>1</td>\n",
       "      <td>1</td>\n",
       "      <td>1</td>\n",
       "    </tr>\n",
       "    <tr>\n",
       "      <th>...</th>\n",
       "      <td>...</td>\n",
       "      <td>...</td>\n",
       "      <td>...</td>\n",
       "      <td>...</td>\n",
       "      <td>...</td>\n",
       "      <td>...</td>\n",
       "      <td>...</td>\n",
       "      <td>...</td>\n",
       "      <td>...</td>\n",
       "      <td>...</td>\n",
       "      <td>...</td>\n",
       "      <td>...</td>\n",
       "      <td>...</td>\n",
       "      <td>...</td>\n",
       "    </tr>\n",
       "    <tr>\n",
       "      <th>1675</th>\n",
       "      <td>103C_20210909</td>\n",
       "      <td>0</td>\n",
       "      <td>0</td>\n",
       "      <td>0</td>\n",
       "      <td>0</td>\n",
       "      <td>1</td>\n",
       "      <td>0</td>\n",
       "      <td>0</td>\n",
       "      <td>0</td>\n",
       "      <td>1</td>\n",
       "      <td>1</td>\n",
       "      <td>0</td>\n",
       "      <td>1</td>\n",
       "      <td>1</td>\n",
       "    </tr>\n",
       "    <tr>\n",
       "      <th>1676</th>\n",
       "      <td>103C_20210909</td>\n",
       "      <td>0</td>\n",
       "      <td>0</td>\n",
       "      <td>0</td>\n",
       "      <td>0</td>\n",
       "      <td>1</td>\n",
       "      <td>0</td>\n",
       "      <td>0</td>\n",
       "      <td>0</td>\n",
       "      <td>1</td>\n",
       "      <td>1</td>\n",
       "      <td>0</td>\n",
       "      <td>1</td>\n",
       "      <td>0</td>\n",
       "    </tr>\n",
       "    <tr>\n",
       "      <th>1677</th>\n",
       "      <td>103C_20210909</td>\n",
       "      <td>0</td>\n",
       "      <td>0</td>\n",
       "      <td>0</td>\n",
       "      <td>0</td>\n",
       "      <td>1</td>\n",
       "      <td>0</td>\n",
       "      <td>0</td>\n",
       "      <td>0</td>\n",
       "      <td>1</td>\n",
       "      <td>1</td>\n",
       "      <td>0</td>\n",
       "      <td>1</td>\n",
       "      <td>0</td>\n",
       "    </tr>\n",
       "    <tr>\n",
       "      <th>1678</th>\n",
       "      <td>103C_20210909</td>\n",
       "      <td>1</td>\n",
       "      <td>1</td>\n",
       "      <td>1</td>\n",
       "      <td>1</td>\n",
       "      <td>1</td>\n",
       "      <td>0</td>\n",
       "      <td>1</td>\n",
       "      <td>1</td>\n",
       "      <td>1</td>\n",
       "      <td>1</td>\n",
       "      <td>1</td>\n",
       "      <td>1</td>\n",
       "      <td>1</td>\n",
       "    </tr>\n",
       "    <tr>\n",
       "      <th>1679</th>\n",
       "      <td>103C_20210909</td>\n",
       "      <td>1</td>\n",
       "      <td>1</td>\n",
       "      <td>1</td>\n",
       "      <td>1</td>\n",
       "      <td>1</td>\n",
       "      <td>0</td>\n",
       "      <td>0</td>\n",
       "      <td>1</td>\n",
       "      <td>1</td>\n",
       "      <td>1</td>\n",
       "      <td>1</td>\n",
       "      <td>1</td>\n",
       "      <td>1</td>\n",
       "    </tr>\n",
       "  </tbody>\n",
       "</table>\n",
       "<p>1680 rows × 14 columns</p>\n",
       "</div>"
      ],
      "text/plain": [
       "              Image  Reference  Predicted_EXG_L  Predicted_EXGR_L  \\\n",
       "0     302A_20210708          1                1                 1   \n",
       "1     302A_20210708          0                1                 1   \n",
       "2     302A_20210708          1                1                 1   \n",
       "3     302A_20210708          0                1                 1   \n",
       "4     302A_20210708          1                1                 1   \n",
       "...             ...        ...              ...               ...   \n",
       "1675  103C_20210909          0                0                 0   \n",
       "1676  103C_20210909          0                0                 0   \n",
       "1677  103C_20210909          0                0                 0   \n",
       "1678  103C_20210909          1                1                 1   \n",
       "1679  103C_20210909          1                1                 1   \n",
       "\n",
       "      Predicted_GLI_L  Predicted_VARI_L  Predicted_EXG_G  Predicted_EXGR_G  \\\n",
       "0                   1                 1                0                 0   \n",
       "1                   1                 1                0                 0   \n",
       "2                   1                 1                0                 0   \n",
       "3                   1                 1                0                 0   \n",
       "4                   1                 1                0                 0   \n",
       "...               ...               ...              ...               ...   \n",
       "1675                0                 1                0                 0   \n",
       "1676                0                 1                0                 0   \n",
       "1677                0                 1                0                 0   \n",
       "1678                1                 1                0                 1   \n",
       "1679                1                 1                0                 0   \n",
       "\n",
       "      Predicted_GLI_G  Predicted_VARI_G  Predicted_EXG_Z  Predicted_EXGR_Z  \\\n",
       "0                   0                 1                1                 0   \n",
       "1                   0                 1                1                 0   \n",
       "2                   0                 1                1                 0   \n",
       "3                   0                 1                1                 1   \n",
       "4                   0                 1                1                 1   \n",
       "...               ...               ...              ...               ...   \n",
       "1675                0                 1                1                 0   \n",
       "1676                0                 1                1                 0   \n",
       "1677                0                 1                1                 0   \n",
       "1678                1                 1                1                 1   \n",
       "1679                1                 1                1                 1   \n",
       "\n",
       "      Predicted_GLI_Z  Predicted_VARI_Z  \n",
       "0                   1                 0  \n",
       "1                   1                 0  \n",
       "2                   1                 0  \n",
       "3                   1                 0  \n",
       "4                   1                 1  \n",
       "...               ...               ...  \n",
       "1675                1                 1  \n",
       "1676                1                 0  \n",
       "1677                1                 0  \n",
       "1678                1                 1  \n",
       "1679                1                 1  \n",
       "\n",
       "[1680 rows x 14 columns]"
      ]
     },
     "execution_count": 6,
     "metadata": {},
     "output_type": "execute_result"
    }
   ],
   "source": [
    "stats_df"
   ]
  },
  {
   "cell_type": "code",
   "execution_count": 7,
   "id": "0736d32e",
   "metadata": {},
   "outputs": [],
   "source": [
    "##Empty List for DataFrame \n",
    "\n",
    "Thresh = []\n",
    "\n",
    "Overall = []\n",
    "\n",
    "Precision = []\n",
    "\n",
    "Recall = []"
   ]
  },
  {
   "cell_type": "code",
   "execution_count": 8,
   "id": "60080b55",
   "metadata": {},
   "outputs": [
    {
     "data": {
      "image/png": "[encoded data removed]",
      "text/plain": [
       "<Figure size 432x288 with 2 Axes>"
      ]
     },
     "metadata": {
      "needs_background": "light"
     },
     "output_type": "display_data"
    },
    {
     "name": "stdout",
     "output_type": "stream",
     "text": [
      "Overall Accuracy: 0.5226190476190476 \n",
      "\n",
      "Precision: 0.34615384615384615 \n",
      "\n",
      "Recall: 0.4804270462633452\n"
     ]
    }
   ],
   "source": [
    "##EXG Local stats\n",
    "\n",
    "cm =confusion_matrix(stats_df.Reference, stats_df.Predicted_EXG_L)\n",
    "\n",
    "ls= [\"Non-Vegetation\", \"Vegetation\"]\n",
    "\n",
    "\n",
    "disp= ConfusionMatrixDisplay(confusion_matrix = cm, display_labels= ls)\n",
    "\n",
    "\n",
    "\n",
    "disp.plot()\n",
    "plt.title(\"Local Thresh Excess Green\")\n",
    "plt.show()\n",
    "\n",
    "accuracy = accuracy_score(stats_df.Reference, stats_df.Predicted_EXG_L)\n",
    "\n",
    "precision = precision_score(stats_df.Reference, stats_df.Predicted_EXG_L)\n",
    "\n",
    "recall = recall_score(stats_df.Reference, stats_df.Predicted_EXG_L)\n",
    "\n",
    "\n",
    "print(\"Overall Accuracy:\", accuracy, \"\\n\\n\"\n",
    "      \"Precision:\", precision, \"\\n\\n\"\n",
    "      \"Recall:\", recall)\n",
    "\n",
    "Thresh.append(\"EXG_Local\")\n",
    "Overall.append(accuracy)\n",
    "Precision.append(precision)\n",
    "Recall.append(recall)\n"
   ]
  },
  {
   "cell_type": "code",
   "execution_count": 9,
   "id": "a0e8710d",
   "metadata": {},
   "outputs": [
    {
     "data": {
      "image/png": "[encoded data removed]",
      "text/plain": [
       "<Figure size 432x288 with 2 Axes>"
      ]
     },
     "metadata": {
      "needs_background": "light"
     },
     "output_type": "display_data"
    },
    {
     "name": "stdout",
     "output_type": "stream",
     "text": [
      "Overall Accuracy: 0.4398809523809524 \n",
      "\n",
      "Precision: 0.3140333660451423 \n",
      "\n",
      "Recall: 0.5693950177935944\n"
     ]
    }
   ],
   "source": [
    "##EXGR Local Stats\n",
    "\n",
    "cm =confusion_matrix(stats_df.Reference, stats_df.Predicted_EXGR_L)\n",
    "\n",
    "ls= [\"Non-Vegetation\", \"Vegetation\"]\n",
    "\n",
    "\n",
    "disp= ConfusionMatrixDisplay(confusion_matrix = cm, display_labels= ls)\n",
    "\n",
    "\n",
    "\n",
    "disp.plot()\n",
    "plt.title(\"Local Thresh Excess Green minus Red\")\n",
    "plt.show()\n",
    "\n",
    "accuracy = accuracy_score(stats_df.Reference, stats_df.Predicted_EXGR_L)\n",
    "\n",
    "precision = precision_score(stats_df.Reference, stats_df.Predicted_EXGR_L)\n",
    "\n",
    "recall = recall_score(stats_df.Reference, stats_df.Predicted_EXGR_L)\n",
    "\n",
    "\n",
    "print(\"Overall Accuracy:\", accuracy, \"\\n\\n\"\n",
    "      \"Precision:\", precision, \"\\n\\n\"\n",
    "      \"Recall:\", recall)\n",
    "\n",
    "Thresh.append(\"EXGR_Local\")\n",
    "Overall.append(accuracy)\n",
    "Precision.append(precision)\n",
    "Recall.append(recall)\n"
   ]
  },
  {
   "cell_type": "code",
   "execution_count": 10,
   "id": "2d0dca18",
   "metadata": {},
   "outputs": [
    {
     "data": {
      "image/png": "[encoded data removed]",
      "text/plain": [
       "<Figure size 432x288 with 2 Axes>"
      ]
     },
     "metadata": {
      "needs_background": "light"
     },
     "output_type": "display_data"
    },
    {
     "name": "stdout",
     "output_type": "stream",
     "text": [
      "Overall Accuracy: 0.4577380952380952 \n",
      "\n",
      "Precision: 0.33737185461323393 \n",
      "\n",
      "Recall: 0.6441281138790036\n"
     ]
    }
   ],
   "source": [
    "##GLI Local Stats\n",
    "\n",
    "cm =confusion_matrix(stats_df.Reference, stats_df.Predicted_GLI_L)\n",
    "\n",
    "ls= [\"Non-Vegetation\", \"Vegetation\"]\n",
    "\n",
    "\n",
    "disp= ConfusionMatrixDisplay(confusion_matrix = cm, display_labels= ls)\n",
    "\n",
    "\n",
    "\n",
    "disp.plot()\n",
    "plt.title(\"Local Thresh Green Leaf Index\")\n",
    "plt.show()\n",
    "\n",
    "accuracy = accuracy_score(stats_df.Reference, stats_df.Predicted_GLI_L)\n",
    "\n",
    "precision = precision_score(stats_df.Reference, stats_df.Predicted_GLI_L)\n",
    "\n",
    "recall = recall_score(stats_df.Reference, stats_df.Predicted_GLI_L)\n",
    "\n",
    "\n",
    "print(\"Overall Accuracy:\", accuracy, \"\\n\\n\"\n",
    "      \"Precision:\", precision, \"\\n\\n\"\n",
    "      \"Recall:\", recall)\n",
    "\n",
    "Thresh.append(\"GLI_Local\")\n",
    "Overall.append(accuracy)\n",
    "Precision.append(precision)\n",
    "Recall.append(recall)"
   ]
  },
  {
   "cell_type": "code",
   "execution_count": 11,
   "id": "be53bd3d",
   "metadata": {},
   "outputs": [
    {
     "data": {
      "image/png": "[encoded data removed]",
      "text/plain": [
       "<Figure size 432x288 with 2 Axes>"
      ]
     },
     "metadata": {
      "needs_background": "light"
     },
     "output_type": "display_data"
    },
    {
     "name": "stdout",
     "output_type": "stream",
     "text": [
      "Overall Accuracy: 0.5041666666666667 \n",
      "\n",
      "Precision: 0.3922036595067621 \n",
      "\n",
      "Recall: 0.8772241992882562\n"
     ]
    }
   ],
   "source": [
    "##VARI Local Stats\n",
    "\n",
    "cm =confusion_matrix(stats_df.Reference, stats_df.Predicted_VARI_L)\n",
    "\n",
    "ls= [\"Non-Vegetation\", \"Vegetation\"]\n",
    "\n",
    "\n",
    "disp= ConfusionMatrixDisplay(confusion_matrix = cm, display_labels= ls)\n",
    "\n",
    "\n",
    "\n",
    "disp.plot()\n",
    "plt.title(\"Local Thresh Visible Atmospherically Resistant Index\")\n",
    "plt.show()\n",
    "\n",
    "accuracy = accuracy_score(stats_df.Reference, stats_df.Predicted_VARI_L)\n",
    "\n",
    "precision = precision_score(stats_df.Reference, stats_df.Predicted_VARI_L)\n",
    "\n",
    "recall = recall_score(stats_df.Reference, stats_df.Predicted_VARI_L)\n",
    "\n",
    "\n",
    "print(\"Overall Accuracy:\", accuracy, \"\\n\\n\"\n",
    "      \"Precision:\", precision, \"\\n\\n\"\n",
    "      \"Recall:\", recall)\n",
    "\n",
    "Thresh.append(\"VARI_Local\")\n",
    "Overall.append(accuracy)\n",
    "Precision.append(precision)\n",
    "Recall.append(recall)"
   ]
  },
  {
   "cell_type": "code",
   "execution_count": 12,
   "id": "1040d948",
   "metadata": {},
   "outputs": [
    {
     "data": {
      "image/png": "[encoded data removed]",
      "text/plain": [
       "<Figure size 432x288 with 2 Axes>"
      ]
     },
     "metadata": {
      "needs_background": "light"
     },
     "output_type": "display_data"
    },
    {
     "name": "stdout",
     "output_type": "stream",
     "text": [
      "Overall Accuracy: 0.7892857142857143 \n",
      "\n",
      "Precision: 0.8312101910828026 \n",
      "\n",
      "Recall: 0.46441281138790036\n"
     ]
    }
   ],
   "source": [
    "##EXG Global Stats\n",
    "\n",
    "cm =confusion_matrix(stats_df.Reference, stats_df.Predicted_EXG_G)\n",
    "\n",
    "ls= [\"Non-Vegetation\", \"Vegetation\"]\n",
    "\n",
    "\n",
    "disp= ConfusionMatrixDisplay(confusion_matrix = cm, display_labels= ls)\n",
    "\n",
    "\n",
    "\n",
    "disp.plot()\n",
    "plt.title(\"Global Thresh Excess Green\")\n",
    "plt.show()\n",
    "\n",
    "accuracy = accuracy_score(stats_df.Reference, stats_df.Predicted_EXG_G)\n",
    "\n",
    "precision = precision_score(stats_df.Reference, stats_df.Predicted_EXG_G)\n",
    "\n",
    "recall = recall_score(stats_df.Reference, stats_df.Predicted_EXG_G)\n",
    "\n",
    "\n",
    "print(\"Overall Accuracy:\", accuracy, \"\\n\\n\"\n",
    "      \"Precision:\", precision, \"\\n\\n\"\n",
    "      \"Recall:\", recall)\n",
    "\n",
    "Thresh.append(\"EXG_Global\")\n",
    "Overall.append(accuracy)\n",
    "Precision.append(precision)\n",
    "Recall.append(recall)"
   ]
  },
  {
   "cell_type": "code",
   "execution_count": 13,
   "id": "04cd6af2",
   "metadata": {},
   "outputs": [
    {
     "data": {
      "image/png": "[encoded data removed]",
      "text/plain": [
       "<Figure size 432x288 with 2 Axes>"
      ]
     },
     "metadata": {
      "needs_background": "light"
     },
     "output_type": "display_data"
    },
    {
     "name": "stdout",
     "output_type": "stream",
     "text": [
      "Overall Accuracy: 0.8125 \n",
      "\n",
      "Precision: 0.8310991957104558 \n",
      "\n",
      "Recall: 0.5516014234875445\n"
     ]
    }
   ],
   "source": [
    "##EXGR Global Stats\n",
    "\n",
    "cm =confusion_matrix(stats_df.Reference, stats_df.Predicted_EXGR_G)\n",
    "\n",
    "ls= [\"Non-Vegetation\", \"Vegetation\"]\n",
    "\n",
    "\n",
    "disp= ConfusionMatrixDisplay(confusion_matrix = cm, display_labels= ls)\n",
    "\n",
    "\n",
    "\n",
    "disp.plot()\n",
    "plt.title(\"Global Thresh Excess Green minus Red\")\n",
    "plt.show()\n",
    "\n",
    "accuracy = accuracy_score(stats_df.Reference, stats_df.Predicted_EXGR_G)\n",
    "\n",
    "precision = precision_score(stats_df.Reference, stats_df.Predicted_EXGR_G)\n",
    "\n",
    "recall = recall_score(stats_df.Reference, stats_df.Predicted_EXGR_G)\n",
    "\n",
    "\n",
    "print(\"Overall Accuracy:\", accuracy, \"\\n\\n\"\n",
    "      \"Precision:\", precision, \"\\n\\n\"\n",
    "      \"Recall:\", recall)\n",
    "\n",
    "Thresh.append(\"EXGR_Global\")\n",
    "Overall.append(accuracy)\n",
    "Precision.append(precision)\n",
    "Recall.append(recall)"
   ]
  },
  {
   "cell_type": "code",
   "execution_count": 14,
   "id": "fec1088a",
   "metadata": {},
   "outputs": [
    {
     "data": {
      "image/png": "[encoded data removed]",
      "text/plain": [
       "<Figure size 432x288 with 2 Axes>"
      ]
     },
     "metadata": {
      "needs_background": "light"
     },
     "output_type": "display_data"
    },
    {
     "name": "stdout",
     "output_type": "stream",
     "text": [
      "Overall Accuracy: 0.8196428571428571 \n",
      "\n",
      "Precision: 0.8018648018648019 \n",
      "\n",
      "Recall: 0.6120996441281139\n"
     ]
    }
   ],
   "source": [
    "##GLI Global Stats\n",
    "\n",
    "cm =confusion_matrix(stats_df.Reference, stats_df.Predicted_GLI_G)\n",
    "\n",
    "ls= [\"Non-Vegetation\", \"Vegetation\"]\n",
    "\n",
    "\n",
    "disp= ConfusionMatrixDisplay(confusion_matrix = cm, display_labels= ls)\n",
    "\n",
    "\n",
    "\n",
    "disp.plot()\n",
    "plt.title(\"Global Thresh Green Leaf Index\")\n",
    "plt.show()\n",
    "\n",
    "accuracy = accuracy_score(stats_df.Reference, stats_df.Predicted_GLI_G)\n",
    "\n",
    "precision = precision_score(stats_df.Reference, stats_df.Predicted_GLI_G)\n",
    "\n",
    "recall = recall_score(stats_df.Reference, stats_df.Predicted_GLI_G)\n",
    "\n",
    "\n",
    "print(\"Overall Accuracy:\", accuracy, \"\\n\\n\"\n",
    "      \"Precision:\", precision, \"\\n\\n\"\n",
    "      \"Recall:\", recall)\n",
    "\n",
    "Thresh.append(\"GLI_Global\")\n",
    "Overall.append(accuracy)\n",
    "Precision.append(precision)\n",
    "Recall.append(recall)"
   ]
  },
  {
   "cell_type": "code",
   "execution_count": 15,
   "id": "714df6de",
   "metadata": {},
   "outputs": [
    {
     "data": {
      "image/png": "[encoded data removed]",
      "text/plain": [
       "<Figure size 432x288 with 2 Axes>"
      ]
     },
     "metadata": {
      "needs_background": "light"
     },
     "output_type": "display_data"
    },
    {
     "name": "stdout",
     "output_type": "stream",
     "text": [
      "Overall Accuracy: 0.5791666666666667 \n",
      "\n",
      "Precision: 0.44052502050861364 \n",
      "\n",
      "Recall: 0.9555160142348754\n"
     ]
    }
   ],
   "source": [
    "##VARI Global Stats\n",
    "\n",
    "cm =confusion_matrix(stats_df.Reference, stats_df.Predicted_VARI_G)\n",
    "\n",
    "ls= [\"Non-Vegetation\", \"Vegetation\"]\n",
    "\n",
    "\n",
    "disp= ConfusionMatrixDisplay(confusion_matrix = cm, display_labels= ls)\n",
    "\n",
    "\n",
    "\n",
    "disp.plot()\n",
    "plt.title(\"Global Thresh Visible Atmospherically Resistant Index\")\n",
    "plt.show()\n",
    "\n",
    "accuracy = accuracy_score(stats_df.Reference, stats_df.Predicted_VARI_G)\n",
    "\n",
    "precision = precision_score(stats_df.Reference, stats_df.Predicted_VARI_G)\n",
    "\n",
    "recall = recall_score(stats_df.Reference, stats_df.Predicted_VARI_G)\n",
    "\n",
    "\n",
    "print(\"Overall Accuracy:\", accuracy, \"\\n\\n\"\n",
    "      \"Precision:\", precision, \"\\n\\n\"\n",
    "      \"Recall:\", recall)\n",
    "\n",
    "Thresh.append(\"VARI_Global\")\n",
    "Overall.append(accuracy)\n",
    "Precision.append(precision)\n",
    "Recall.append(recall)"
   ]
  },
  {
   "cell_type": "code",
   "execution_count": 16,
   "id": "a27cfb18",
   "metadata": {},
   "outputs": [
    {
     "data": {
      "image/png": "[encoded data removed]",
      "text/plain": [
       "<Figure size 432x288 with 2 Axes>"
      ]
     },
     "metadata": {
      "needs_background": "light"
     },
     "output_type": "display_data"
    },
    {
     "name": "stdout",
     "output_type": "stream",
     "text": [
      "Overall Accuracy: 0.5553571428571429 \n",
      "\n",
      "Precision: 0.42835011618900076 \n",
      "\n",
      "Recall: 0.9839857651245552\n"
     ]
    }
   ],
   "source": [
    "##EXG Zero Stats\n",
    "\n",
    "cm =confusion_matrix(stats_df.Reference, stats_df.Predicted_EXG_Z)\n",
    "\n",
    "ls= [\"Non-Vegetation\", \"Vegetation\"]\n",
    "\n",
    "\n",
    "disp= ConfusionMatrixDisplay(confusion_matrix = cm, display_labels= ls)\n",
    "\n",
    "\n",
    "\n",
    "disp.plot()\n",
    "plt.title(\"Zero Thresh Excess Green\")\n",
    "plt.show()\n",
    "\n",
    "accuracy = accuracy_score(stats_df.Reference, stats_df.Predicted_EXG_Z)\n",
    "\n",
    "precision = precision_score(stats_df.Reference, stats_df.Predicted_EXG_Z)\n",
    "\n",
    "recall = recall_score(stats_df.Reference, stats_df.Predicted_EXG_Z)\n",
    "\n",
    "\n",
    "print(\"Overall Accuracy:\", accuracy, \"\\n\\n\"\n",
    "      \"Precision:\", precision, \"\\n\\n\"\n",
    "      \"Recall:\", recall)\n",
    "\n",
    "Thresh.append(\"EXG_Zero\")\n",
    "Overall.append(accuracy)\n",
    "Precision.append(precision)\n",
    "Recall.append(recall)"
   ]
  },
  {
   "cell_type": "code",
   "execution_count": 17,
   "id": "20ab13b0",
   "metadata": {},
   "outputs": [
    {
     "data": {
      "image/png": "[encoded data removed]",
      "text/plain": [
       "<Figure size 432x288 with 2 Axes>"
      ]
     },
     "metadata": {
      "needs_background": "light"
     },
     "output_type": "display_data"
    },
    {
     "name": "stdout",
     "output_type": "stream",
     "text": [
      "Overall Accuracy: 0.8494047619047619 \n",
      "\n",
      "Precision: 0.748792270531401 \n",
      "\n",
      "Recall: 0.8274021352313167\n"
     ]
    }
   ],
   "source": [
    "##EXGR Zero Stats \n",
    "\n",
    "cm =confusion_matrix(stats_df.Reference, stats_df.Predicted_EXGR_Z)\n",
    "\n",
    "ls= [\"Non-Vegetation\", \"Vegetation\"]\n",
    "\n",
    "\n",
    "disp= ConfusionMatrixDisplay(confusion_matrix = cm, display_labels= ls)\n",
    "\n",
    "\n",
    "\n",
    "disp.plot()\n",
    "plt.title(\"Zero Thresh Excess Green minus Red\")\n",
    "plt.show()\n",
    "\n",
    "accuracy = accuracy_score(stats_df.Reference, stats_df.Predicted_EXGR_Z)\n",
    "\n",
    "precision = precision_score(stats_df.Reference, stats_df.Predicted_EXGR_Z)\n",
    "\n",
    "recall = recall_score(stats_df.Reference, stats_df.Predicted_EXGR_Z)\n",
    "\n",
    "\n",
    "print(\"Overall Accuracy:\", accuracy, \"\\n\\n\"\n",
    "      \"Precision:\", precision, \"\\n\\n\"\n",
    "      \"Recall:\", recall)\n",
    "\n",
    "Thresh.append(\"EXGR_Zero\")\n",
    "Overall.append(accuracy)\n",
    "Precision.append(precision)\n",
    "Recall.append(recall)"
   ]
  },
  {
   "cell_type": "code",
   "execution_count": 18,
   "id": "29c16f19",
   "metadata": {},
   "outputs": [
    {
     "data": {
      "image/png": "[encoded data removed]",
      "text/plain": [
       "<Figure size 432x288 with 2 Axes>"
      ]
     },
     "metadata": {
      "needs_background": "light"
     },
     "output_type": "display_data"
    },
    {
     "name": "stdout",
     "output_type": "stream",
     "text": [
      "Overall Accuracy: 0.5553571428571429 \n",
      "\n",
      "Precision: 0.42835011618900076 \n",
      "\n",
      "Recall: 0.9839857651245552\n"
     ]
    }
   ],
   "source": [
    "cm =confusion_matrix(stats_df.Reference, stats_df.Predicted_GLI_Z)\n",
    "\n",
    "ls= [\"Non-Vegetation\", \"Vegetation\"]\n",
    "\n",
    "\n",
    "disp= ConfusionMatrixDisplay(confusion_matrix = cm, display_labels= ls)\n",
    "\n",
    "\n",
    "\n",
    "disp.plot()\n",
    "plt.title(\"Zero Thresh Green Leaf Index\")\n",
    "plt.show()\n",
    "\n",
    "accuracy = accuracy_score(stats_df.Reference, stats_df.Predicted_GLI_Z)\n",
    "\n",
    "precision = precision_score(stats_df.Reference, stats_df.Predicted_GLI_Z)\n",
    "\n",
    "recall = recall_score(stats_df.Reference, stats_df.Predicted_GLI_Z)\n",
    "\n",
    "\n",
    "print(\"Overall Accuracy:\", accuracy, \"\\n\\n\"\n",
    "      \"Precision:\", precision, \"\\n\\n\"\n",
    "      \"Recall:\", recall)\n",
    "\n",
    "Thresh.append(\"GLI_Zero\")\n",
    "Overall.append(accuracy)\n",
    "Precision.append(precision)\n",
    "Recall.append(recall)"
   ]
  },
  {
   "cell_type": "code",
   "execution_count": 19,
   "id": "2cdaccb4",
   "metadata": {},
   "outputs": [
    {
     "data": {
      "image/png": "[encoded data removed]",
      "text/plain": [
       "<Figure size 432x288 with 2 Axes>"
      ]
     },
     "metadata": {
      "needs_background": "light"
     },
     "output_type": "display_data"
    },
    {
     "name": "stdout",
     "output_type": "stream",
     "text": [
      "Overall Accuracy: 0.7910714285714285 \n",
      "\n",
      "Precision: 0.6354300385109114 \n",
      "\n",
      "Recall: 0.8807829181494662\n"
     ]
    }
   ],
   "source": [
    "cm =confusion_matrix(stats_df.Reference, stats_df.Predicted_VARI_Z)\n",
    "\n",
    "ls= [\"Non-Vegetation\", \"Vegetation\"]\n",
    "\n",
    "\n",
    "disp= ConfusionMatrixDisplay(confusion_matrix = cm, display_labels= ls)\n",
    "\n",
    "\n",
    "\n",
    "disp.plot()\n",
    "plt.title(\"Zero Thresh Visible Atmospherically Resistant Index\")\n",
    "plt.show()\n",
    "\n",
    "accuracy = accuracy_score(stats_df.Reference, stats_df.Predicted_VARI_Z)\n",
    "\n",
    "precision = precision_score(stats_df.Reference, stats_df.Predicted_VARI_Z)\n",
    "\n",
    "recall = recall_score(stats_df.Reference, stats_df.Predicted_VARI_Z)\n",
    "\n",
    "\n",
    "print(\"Overall Accuracy:\", accuracy, \"\\n\\n\"\n",
    "      \"Precision:\", precision, \"\\n\\n\"\n",
    "      \"Recall:\", recall)\n",
    "\n",
    "Thresh.append(\"VARI_Zero\")\n",
    "Overall.append(accuracy)\n",
    "Precision.append(precision)\n",
    "Recall.append(recall)"
   ]
  },
  {
   "cell_type": "code",
   "execution_count": 20,
   "id": "85b79351",
   "metadata": {},
   "outputs": [],
   "source": [
    "Thresh_stats_df = pd.DataFrame({\"Thresh_Index\":Thresh, \"Overall\":Overall, \"Precision\":Precision, \"Recall\":Recall})\n",
    "\n",
    "Thresh_stats_df.to_csv(\"./Overall_Index_Accuracy.csv\", index = False)"
   ]
  },
  {
   "cell_type": "code",
   "execution_count": null,
   "id": "11462731",
   "metadata": {},
   "outputs": [],
   "source": []
  }
 ],
 "metadata": {
  "kernelspec": {
   "display_name": "Python 3 (ipykernel)",
   "language": "python",
   "name": "python3"
  },
  "language_info": {
   "codemirror_mode": {
    "name": "ipython",
    "version": 3
   },
   "file_extension": ".py",
   "mimetype": "text/x-python",
   "name": "python",
   "nbconvert_exporter": "python",
   "pygments_lexer": "ipython3",
   "version": "3.10.2"
  }
 },
 "nbformat": 4,
 "nbformat_minor": 5
}
