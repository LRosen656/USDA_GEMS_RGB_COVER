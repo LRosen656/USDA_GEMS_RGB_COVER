{
 "cells": [
  {
   "cell_type": "markdown",
   "id": "7f822f8c",
   "metadata": {},
   "source": [
    "# Image Classification: Otsu's Method (Global)\n",
    "\n",
    "This notebook uses the vegetation indicies created in '1.0_Vegetation_Index.ipynb' and the dataframe created in '0.3_DataFrame_Mean_Green.ipynb' to classify images as vegetation or non-vegetation. First, the dataframe is uploaded and used to call the images in each vegetation index. Finally The global threshold found in '2.1.0_Collecting_Global_Threshold.ipynb' will be used to reclassify the images. \n",
    "\n",
    "\n",
    "-Luke Rosen\n",
    "\n",
    "5/5/2022\n",
    "\n",
    "\n"
   ]
  },
  {
   "cell_type": "code",
   "execution_count": 1,
   "id": "ee7cf623",
   "metadata": {},
   "outputs": [],
   "source": [
    "import os\n",
    "import matplotlib\n",
    "import matplotlib.pyplot as plt\n",
    "import numpy as np\n",
    "import glob\n",
    "import skimage\n",
    "from skimage.io import imread, imsave, imshow\n",
    "from skimage.filters import threshold_otsu\n",
    "import pandas as pd"
   ]
  },
  {
   "cell_type": "code",
   "execution_count": 3,
   "id": "91a277d9",
   "metadata": {},
   "outputs": [],
   "source": [
    "# Dataframe is just being called not updated.\n",
    "Oat_Data = pd.read_csv(\"./Oat_Data.csv\")\n"
   ]
  },
  {
   "cell_type": "markdown",
   "id": "c7c77afc",
   "metadata": {},
   "source": [
    "# Defining Gocal Threshold\n",
    "\n",
    "The next cell defines how the local threshold will be used. First, a new output will be made if it dosen't exist. Then Pandas dataframe will call the index image and the threshold.  Numpy will be used to reclassify the image. Finally, the classified image is saved to the new output.\n",
    "\n",
    "Scikit Images Otsu's Threshold outputs as number where anything greater than the number is classified as foreground (vegetation) and anything less than the threshold is classified as background (non-vegetation). To input this in the numpy matrix, two conditions are made to classifiy everything greater than the threshold as 1 and everything less than the threshold as 0.\n",
    "\n",
    "If the threshold is less than one, then all values greater than the threshold is reclassified as 1 and an intermediate array is made. The intermediate array is then reclassifed again to have values less than the threshold (i.e., all values not 1) as zero.\n",
    "\n",
    "If the threshold is greater than one, then all values less than or equal to the threshold is reclassified as 0 and an intermediate array is made. The intermediate array is then reclassifed again to have values greater than the threshold (i.e., all values not 0) as one.\n",
    "\n",
    "This prevents any errors."
   ]
  },
  {
   "cell_type": "code",
   "execution_count": 5,
   "id": "3688c9a6",
   "metadata": {},
   "outputs": [],
   "source": [
    "def global_thresh(Image = None, Index = None, Global_Thresh = None): ## Image, string, number\n",
    "    if not os.path.exists(\"./\" + str(Index) + \"/Thresh\"):             ##Creates path if doesn't exist\n",
    "        os.mkdir(\"./\" + Index + \"/Thresh\")\n",
    "    img = imread(\"./\" + str(Index) + \"/\" + Image + \"_\" + str(Index) + \".tif\")\n",
    "\n",
    "            \n",
    "    Thresh = Global_Thresh              #Global Thresh found in dataframe.\n",
    "    if Thresh <1:                       ## If threshold less than one, first classify vegetantion then nonvegetation. \n",
    "        img[img> Thresh] = 1 \n",
    "        img[img <= Thresh] = 0\n",
    "        \n",
    "    else:                             ## If threshold greater then or equal to one, first classify nonvegetation then vegation\n",
    "        img[img <= Thresh] = 0\n",
    "        img[img> Thresh] = 1\n",
    "    imsave(src + str(Index) + \"/Thresh/\" + Image + \"_\" + str(Index) + \"_ThreshG.tif\", img, check_contrast = False)\n",
    "\n"
   ]
  },
  {
   "cell_type": "code",
   "execution_count": 6,
   "id": "d1e4d046",
   "metadata": {},
   "outputs": [
    {
     "name": "stdout",
     "output_type": "stream",
     "text": [
      "Starting Global Threshold...\n",
      "\n",
      "Done with image 101A_20210708...\n",
      "\n",
      "Done with image 205A_20210708...\n",
      "\n",
      "Done with image 309A_20210708...\n",
      "\n",
      "Done with image 103A_20210821...\n",
      "\n",
      "Done with image 207A_20210821...\n",
      "\n",
      "Done with image 401A_20210821...\n",
      "\n",
      "Done with image 105A_20210909...\n",
      "\n",
      "Done with image 209A_20210909...\n",
      "\n",
      "Done with image 403A_20210909...\n",
      "\n",
      "Done with image 107A_20210929...\n",
      "\n",
      "Done with image 301A_20210929...\n",
      "\n",
      "Done with image 405A_20210929...\n",
      "\n"
     ]
    },
    {
     "ename": "OSError",
     "evalue": "[Errno 22] Invalid argument",
     "output_type": "error",
     "traceback": [
      "\u001b[1;31m---------------------------------------------------------------------------\u001b[0m",
      "\u001b[1;31mOSError\u001b[0m                                   Traceback (most recent call last)",
      "Input \u001b[1;32mIn [6]\u001b[0m, in \u001b[0;36m<module>\u001b[1;34m\u001b[0m\n\u001b[0;32m      7\u001b[0m global_thresh(image, \u001b[38;5;124m\"\u001b[39m\u001b[38;5;124mEXGR\u001b[39m\u001b[38;5;124m\"\u001b[39m, row\u001b[38;5;241m.\u001b[39mEXGR_Global_Thresh)\n\u001b[0;32m      8\u001b[0m global_thresh(image, \u001b[38;5;124m\"\u001b[39m\u001b[38;5;124mGLI\u001b[39m\u001b[38;5;124m\"\u001b[39m, row\u001b[38;5;241m.\u001b[39mGLI_Global_Thresh)\n\u001b[1;32m----> 9\u001b[0m \u001b[43mglobal_thresh\u001b[49m\u001b[43m(\u001b[49m\u001b[43mimage\u001b[49m\u001b[43m,\u001b[49m\u001b[43m \u001b[49m\u001b[38;5;124;43m\"\u001b[39;49m\u001b[38;5;124;43mVARI\u001b[39;49m\u001b[38;5;124;43m\"\u001b[39;49m\u001b[43m,\u001b[49m\u001b[43m \u001b[49m\u001b[43mrow\u001b[49m\u001b[38;5;241;43m.\u001b[39;49m\u001b[43mVARI_Global_Thresh\u001b[49m\u001b[43m)\u001b[49m\n\u001b[0;32m     10\u001b[0m \u001b[38;5;28;01mif\u001b[39;00m count \u001b[38;5;241m%\u001b[39m \u001b[38;5;241m42\u001b[39m \u001b[38;5;241m==\u001b[39m\u001b[38;5;241m0\u001b[39m:\n\u001b[0;32m     11\u001b[0m     \u001b[38;5;28mprint\u001b[39m(\u001b[38;5;124m\"\u001b[39m\u001b[38;5;124mDone with image \u001b[39m\u001b[38;5;124m\"\u001b[39m \u001b[38;5;241m+\u001b[39m \u001b[38;5;28mstr\u001b[39m(image) \u001b[38;5;241m+\u001b[39m \u001b[38;5;124m\"\u001b[39m\u001b[38;5;124m...\u001b[39m\u001b[38;5;130;01m\\n\u001b[39;00m\u001b[38;5;124m\"\u001b[39m)\n",
      "Input \u001b[1;32mIn [5]\u001b[0m, in \u001b[0;36mglobal_thresh\u001b[1;34m(Image, Index, Global_Thresh)\u001b[0m\n\u001b[0;32m      1\u001b[0m \u001b[38;5;28;01mdef\u001b[39;00m \u001b[38;5;21mglobal_thresh\u001b[39m(Image \u001b[38;5;241m=\u001b[39m \u001b[38;5;28;01mNone\u001b[39;00m, Index \u001b[38;5;241m=\u001b[39m \u001b[38;5;28;01mNone\u001b[39;00m, Global_Thresh \u001b[38;5;241m=\u001b[39m \u001b[38;5;28;01mNone\u001b[39;00m):    \n\u001b[1;32m----> 2\u001b[0m     img \u001b[38;5;241m=\u001b[39m \u001b[43mimread\u001b[49m\u001b[43m(\u001b[49m\u001b[38;5;124;43m\"\u001b[39;49m\u001b[38;5;124;43m./\u001b[39;49m\u001b[38;5;124;43m\"\u001b[39;49m\u001b[43m \u001b[49m\u001b[38;5;241;43m+\u001b[39;49m\u001b[43m \u001b[49m\u001b[38;5;28;43mstr\u001b[39;49m\u001b[43m(\u001b[49m\u001b[43mIndex\u001b[49m\u001b[43m)\u001b[49m\u001b[43m \u001b[49m\u001b[38;5;241;43m+\u001b[39;49m\u001b[43m \u001b[49m\u001b[38;5;124;43m\"\u001b[39;49m\u001b[38;5;124;43m/\u001b[39;49m\u001b[38;5;124;43m\"\u001b[39;49m\u001b[43m \u001b[49m\u001b[38;5;241;43m+\u001b[39;49m\u001b[43m \u001b[49m\u001b[43mImage\u001b[49m\u001b[43m \u001b[49m\u001b[38;5;241;43m+\u001b[39;49m\u001b[43m \u001b[49m\u001b[38;5;124;43m\"\u001b[39;49m\u001b[38;5;124;43m_\u001b[39;49m\u001b[38;5;124;43m\"\u001b[39;49m\u001b[43m \u001b[49m\u001b[38;5;241;43m+\u001b[39;49m\u001b[43m \u001b[49m\u001b[38;5;28;43mstr\u001b[39;49m\u001b[43m(\u001b[49m\u001b[43mIndex\u001b[49m\u001b[43m)\u001b[49m\u001b[43m \u001b[49m\u001b[38;5;241;43m+\u001b[39;49m\u001b[43m \u001b[49m\u001b[38;5;124;43m\"\u001b[39;49m\u001b[38;5;124;43m.tif\u001b[39;49m\u001b[38;5;124;43m\"\u001b[39;49m\u001b[43m)\u001b[49m\n\u001b[0;32m      5\u001b[0m     Thresh \u001b[38;5;241m=\u001b[39m Global_Thresh\n\u001b[0;32m      6\u001b[0m     \u001b[38;5;28;01mif\u001b[39;00m Thresh \u001b[38;5;241m<\u001b[39m\u001b[38;5;241m1\u001b[39m:\n",
      "File \u001b[1;32m~\\anaconda3\\envs\\ag_env\\lib\\site-packages\\skimage\\io\\_io.py:53\u001b[0m, in \u001b[0;36mimread\u001b[1;34m(fname, as_gray, plugin, **plugin_args)\u001b[0m\n\u001b[0;32m     50\u001b[0m         plugin \u001b[38;5;241m=\u001b[39m \u001b[38;5;124m'\u001b[39m\u001b[38;5;124mtifffile\u001b[39m\u001b[38;5;124m'\u001b[39m\n\u001b[0;32m     52\u001b[0m \u001b[38;5;28;01mwith\u001b[39;00m file_or_url_context(fname) \u001b[38;5;28;01mas\u001b[39;00m fname:\n\u001b[1;32m---> 53\u001b[0m     img \u001b[38;5;241m=\u001b[39m call_plugin(\u001b[38;5;124m'\u001b[39m\u001b[38;5;124mimread\u001b[39m\u001b[38;5;124m'\u001b[39m, fname, plugin\u001b[38;5;241m=\u001b[39mplugin, \u001b[38;5;241m*\u001b[39m\u001b[38;5;241m*\u001b[39mplugin_args)\n\u001b[0;32m     55\u001b[0m \u001b[38;5;28;01mif\u001b[39;00m \u001b[38;5;129;01mnot\u001b[39;00m \u001b[38;5;28mhasattr\u001b[39m(img, \u001b[38;5;124m'\u001b[39m\u001b[38;5;124mndim\u001b[39m\u001b[38;5;124m'\u001b[39m):\n\u001b[0;32m     56\u001b[0m     \u001b[38;5;28;01mreturn\u001b[39;00m img\n",
      "File \u001b[1;32m~\\anaconda3\\envs\\ag_env\\lib\\site-packages\\skimage\\io\\manage_plugins.py:207\u001b[0m, in \u001b[0;36mcall_plugin\u001b[1;34m(kind, *args, **kwargs)\u001b[0m\n\u001b[0;32m    203\u001b[0m     \u001b[38;5;28;01mexcept\u001b[39;00m \u001b[38;5;167;01mIndexError\u001b[39;00m:\n\u001b[0;32m    204\u001b[0m         \u001b[38;5;28;01mraise\u001b[39;00m \u001b[38;5;167;01mRuntimeError\u001b[39;00m(\u001b[38;5;124m'\u001b[39m\u001b[38;5;124mCould not find the plugin \u001b[39m\u001b[38;5;124m\"\u001b[39m\u001b[38;5;132;01m%s\u001b[39;00m\u001b[38;5;124m\"\u001b[39m\u001b[38;5;124m for \u001b[39m\u001b[38;5;132;01m%s\u001b[39;00m\u001b[38;5;124m.\u001b[39m\u001b[38;5;124m'\u001b[39m \u001b[38;5;241m%\u001b[39m\n\u001b[0;32m    205\u001b[0m                            (plugin, kind))\n\u001b[1;32m--> 207\u001b[0m \u001b[38;5;28;01mreturn\u001b[39;00m func(\u001b[38;5;241m*\u001b[39margs, \u001b[38;5;241m*\u001b[39m\u001b[38;5;241m*\u001b[39mkwargs)\n",
      "File \u001b[1;32m~\\anaconda3\\envs\\ag_env\\lib\\site-packages\\skimage\\io\\_plugins\\tifffile_plugin.py:30\u001b[0m, in \u001b[0;36mimread\u001b[1;34m(fname, **kwargs)\u001b[0m\n\u001b[0;32m     27\u001b[0m \u001b[38;5;28;01mif\u001b[39;00m \u001b[38;5;124m'\u001b[39m\u001b[38;5;124mimg_num\u001b[39m\u001b[38;5;124m'\u001b[39m \u001b[38;5;129;01min\u001b[39;00m kwargs:\n\u001b[0;32m     28\u001b[0m     kwargs[\u001b[38;5;124m'\u001b[39m\u001b[38;5;124mkey\u001b[39m\u001b[38;5;124m'\u001b[39m] \u001b[38;5;241m=\u001b[39m kwargs\u001b[38;5;241m.\u001b[39mpop(\u001b[38;5;124m'\u001b[39m\u001b[38;5;124mimg_num\u001b[39m\u001b[38;5;124m'\u001b[39m)\n\u001b[1;32m---> 30\u001b[0m \u001b[38;5;28;01mreturn\u001b[39;00m tifffile_imread(fname, \u001b[38;5;241m*\u001b[39m\u001b[38;5;241m*\u001b[39mkwargs)\n",
      "File \u001b[1;32m~\\anaconda3\\envs\\ag_env\\lib\\site-packages\\tifffile\\tifffile.py:903\u001b[0m, in \u001b[0;36mimread\u001b[1;34m(files, aszarr, **kwargs)\u001b[0m\n\u001b[0;32m    900\u001b[0m     files \u001b[38;5;241m=\u001b[39m files[\u001b[38;5;241m0\u001b[39m]\n\u001b[0;32m    902\u001b[0m \u001b[38;5;28;01mif\u001b[39;00m \u001b[38;5;28misinstance\u001b[39m(files, (\u001b[38;5;28mstr\u001b[39m, os\u001b[38;5;241m.\u001b[39mPathLike)) \u001b[38;5;129;01mor\u001b[39;00m \u001b[38;5;28mhasattr\u001b[39m(files, \u001b[38;5;124m'\u001b[39m\u001b[38;5;124mseek\u001b[39m\u001b[38;5;124m'\u001b[39m):\n\u001b[1;32m--> 903\u001b[0m     \u001b[38;5;28;01mwith\u001b[39;00m TiffFile(files, \u001b[38;5;241m*\u001b[39m\u001b[38;5;241m*\u001b[39mkwargs_file) \u001b[38;5;28;01mas\u001b[39;00m tif:\n\u001b[0;32m    904\u001b[0m         \u001b[38;5;28;01mif\u001b[39;00m aszarr:\n\u001b[0;32m    905\u001b[0m             \u001b[38;5;28;01mreturn\u001b[39;00m tif\u001b[38;5;241m.\u001b[39maszarr(\u001b[38;5;241m*\u001b[39m\u001b[38;5;241m*\u001b[39mkwargs)\n",
      "File \u001b[1;32m~\\anaconda3\\envs\\ag_env\\lib\\site-packages\\tifffile\\tifffile.py:3202\u001b[0m, in \u001b[0;36mTiffFile.__init__\u001b[1;34m(self, arg, mode, name, offset, size, _multifile, _useframes, _parent, **kwargs)\u001b[0m\n\u001b[0;32m   3200\u001b[0m \u001b[38;5;28;01mtry\u001b[39;00m:\n\u001b[0;32m   3201\u001b[0m     fh\u001b[38;5;241m.\u001b[39mseek(\u001b[38;5;241m0\u001b[39m)\n\u001b[1;32m-> 3202\u001b[0m     header \u001b[38;5;241m=\u001b[39m \u001b[43mfh\u001b[49m\u001b[38;5;241;43m.\u001b[39;49m\u001b[43mread\u001b[49m\u001b[43m(\u001b[49m\u001b[38;5;241;43m4\u001b[39;49m\u001b[43m)\u001b[49m\n\u001b[0;32m   3203\u001b[0m     \u001b[38;5;28;01mtry\u001b[39;00m:\n\u001b[0;32m   3204\u001b[0m         byteorder \u001b[38;5;241m=\u001b[39m {\u001b[38;5;124mb\u001b[39m\u001b[38;5;124m'\u001b[39m\u001b[38;5;124mII\u001b[39m\u001b[38;5;124m'\u001b[39m: \u001b[38;5;124m'\u001b[39m\u001b[38;5;124m<\u001b[39m\u001b[38;5;124m'\u001b[39m, \u001b[38;5;124mb\u001b[39m\u001b[38;5;124m'\u001b[39m\u001b[38;5;124mMM\u001b[39m\u001b[38;5;124m'\u001b[39m: \u001b[38;5;124m'\u001b[39m\u001b[38;5;124m>\u001b[39m\u001b[38;5;124m'\u001b[39m, \u001b[38;5;124mb\u001b[39m\u001b[38;5;124m'\u001b[39m\u001b[38;5;124mEP\u001b[39m\u001b[38;5;124m'\u001b[39m: \u001b[38;5;124m'\u001b[39m\u001b[38;5;124m<\u001b[39m\u001b[38;5;124m'\u001b[39m}[header[:\u001b[38;5;241m2\u001b[39m]]\n",
      "File \u001b[1;32m~\\anaconda3\\envs\\ag_env\\lib\\site-packages\\tifffile\\tifffile.py:10612\u001b[0m, in \u001b[0;36mFileHandle.read\u001b[1;34m(self, size)\u001b[0m\n\u001b[0;32m  10610\u001b[0m \u001b[38;5;28;01mif\u001b[39;00m size \u001b[38;5;241m<\u001b[39m \u001b[38;5;241m0\u001b[39m \u001b[38;5;129;01mand\u001b[39;00m \u001b[38;5;28mself\u001b[39m\u001b[38;5;241m.\u001b[39m_offset:\n\u001b[0;32m  10611\u001b[0m     size \u001b[38;5;241m=\u001b[39m \u001b[38;5;28mself\u001b[39m\u001b[38;5;241m.\u001b[39m_size\n\u001b[1;32m> 10612\u001b[0m \u001b[38;5;28;01mreturn\u001b[39;00m \u001b[38;5;28;43mself\u001b[39;49m\u001b[38;5;241;43m.\u001b[39;49m\u001b[43m_fh\u001b[49m\u001b[38;5;241;43m.\u001b[39;49m\u001b[43mread\u001b[49m\u001b[43m(\u001b[49m\u001b[43msize\u001b[49m\u001b[43m)\u001b[49m\n",
      "\u001b[1;31mOSError\u001b[0m: [Errno 22] Invalid argument"
     ]
    }
   ],
   "source": [
    "count = 0\n",
    "print(\"Starting Global Threshold...\\n\")\n",
    "for index, row in Oat_Data.iterrows():\n",
    "    image = str(row.image)\n",
    "    \n",
    "    global_thresh(image, \"EXG\", row.EXG_Global_Thresh)\n",
    "    global_thresh(image, \"EXGR\", row.EXGR_Global_Thresh)\n",
    "    global_thresh(image, \"GLI\", row.GLI_Global_Thresh)\n",
    "    global_thresh(image, \"VARI\", row.VARI_Global_Thresh)\n",
    "    if count % 42 ==0:\n",
    "        print(\"Done with image \" + str(image) + \"...\\n\")\n",
    "    count = count + 1\n",
    "\n",
    "    "
   ]
  },
  {
   "cell_type": "markdown",
   "id": "d76ba1f3",
   "metadata": {},
   "source": [
    "This notebook is complete. The next notebook will use a zero threshold to reclassify the images. "
   ]
  }
 ],
 "metadata": {
  "kernelspec": {
   "display_name": "Python 3 (ipykernel)",
   "language": "python",
   "name": "python3"
  },
  "language_info": {
   "codemirror_mode": {
    "name": "ipython",
    "version": 3
   },
   "file_extension": ".py",
   "mimetype": "text/x-python",
   "name": "python",
   "nbconvert_exporter": "python",
   "pygments_lexer": "ipython3",
   "version": "3.10.2"
  }
 },
 "nbformat": 4,
 "nbformat_minor": 5
}
