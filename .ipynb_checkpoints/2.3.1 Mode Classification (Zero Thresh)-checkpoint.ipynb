{
 "cells": [
  {
   "cell_type": "markdown",
   "id": "dbe3a99f",
   "metadata": {},
   "source": [
    "# Mode Classification\n",
    "\n",
    "This notebook takes the mode value of each classified image and summarizes it into an array. First, Pandas dataframe will call the each index and threshold, Then, the arrays wil be summed to have values between 0 and 12. Anything greater than 6 will be reclassified as 1 (vegetation). Anything less than 6 will be reclassified as 0 (non-vegetation). Anything equal to class will reclassified as Excess Green minus Red Zero threshold value (best).  "
   ]
  },
  {
   "cell_type": "code",
   "execution_count": 1,
   "id": "846b4e84",
   "metadata": {},
   "outputs": [],
   "source": [
    "import os\n",
    "import matplotlib\n",
    "import matplotlib.pyplot as plt\n",
    "import numpy as np\n",
    "import glob\n",
    "import skimage\n",
    "from skimage.io import imread, imsave, imshow\n",
    "from skimage.filters import threshold_otsu\n",
    "import pandas as pd"
   ]
  },
  {
   "cell_type": "code",
   "execution_count": 3,
   "id": "717d3690",
   "metadata": {},
   "outputs": [],
   "source": [
    "if not os.path.exists(\"./Mode\"):\n",
    "    os.mkdir(\"./Mode\")\n",
    "    \n",
    "out_dir = \"./Mode/\""
   ]
  },
  {
   "cell_type": "code",
   "execution_count": 4,
   "id": "76498364",
   "metadata": {},
   "outputs": [],
   "source": [
    "Oat_Data = pd.read_csv(\"Oat_Data.csv\") #Uploaded but not modifying the dataframe.\n"
   ]
  },
  {
   "cell_type": "code",
   "execution_count": 7,
   "id": "c815cd24",
   "metadata": {},
   "outputs": [
    {
     "name": "stdout",
     "output_type": "stream",
     "text": [
      "Done with image 101A_20210708...\n",
      "\n",
      "Done with image 205A_20210708...\n",
      "\n",
      "Done with image 309A_20210708...\n",
      "\n",
      "Done with image 103A_20210821...\n",
      "\n",
      "Done with image 207A_20210821...\n",
      "\n",
      "Done with image 401A_20210821...\n",
      "\n",
      "Done with image 105A_20210909...\n",
      "\n",
      "Done with image 209A_20210909...\n",
      "\n",
      "Done with image 403A_20210909...\n",
      "\n",
      "Done with image 107A_20210929...\n",
      "\n",
      "Done with image 301A_20210929...\n",
      "\n",
      "Done with image 405A_20210929...\n",
      "\n",
      "Done with image 109A_20211005...\n",
      "\n",
      "Done with image 303A_20211005...\n",
      "\n",
      "Done with image 407A_20211005...\n",
      "\n",
      "Done with image 201A_20211015...\n",
      "\n",
      "Done with image 305A_20211015...\n",
      "\n",
      "Done with image 409A_20211015...\n",
      "\n",
      "Done with image 203A_20211025...\n",
      "\n",
      "Done with image 307A_20211025...\n",
      "\n",
      "Mode Classification Complete!!!\n"
     ]
    }
   ],
   "source": [
    "count = 0\n",
    "\n",
    "for index, row in Oat_Data.iterrows():\n",
    "    EXG_Local = imread(\"./EXG/Thresh/\" + row.Image + \"_EXG_ThreshL.tif\")\n",
    "\n",
    "    EXG_Global = imread(\"./EXG/Thresh/\" + row.Image + \"_EXG_ThreshG.tif\")\n",
    "\n",
    "    EXG_Zero = imread(\"./EXG/Thresh/\" + row.Image + \"_EXG_Thresh_Zero.tif\")\n",
    "\n",
    "\n",
    "    EXGR_Local = imread(\"./EXGR/Thresh/\" + row.Image + \"_EXGR_ThreshL.tif\")\n",
    "\n",
    "    EXGR_Global = imread(\"./EXGR/Thresh/\" + row.Image + \"_EXGR_ThreshG.tif\")\n",
    "\n",
    "    EXGR_Zero = imread(\"./EXGR/Thresh/\" + row.Image + \"_EXGR_Thresh_Zero.tif\")\n",
    "\n",
    "\n",
    "    GLI_Local = imread(\"./GLI/Thresh/\" + row.Image + \"_GLI_ThreshL.tif\")\n",
    "\n",
    "    GLI_Global = imread(\"./GLI/Thresh/\" + row.Image + \"_GLI_ThreshG.tif\")\n",
    "\n",
    "    GLI_Zero = imread(\"./GLI/Thresh/\" + row.Image + \"_GLI_Thresh_Zero.tif\")\n",
    "\n",
    "\n",
    "    VARI_Local = imread(\"./VARI/Thresh/\" + row.Image + \"_VARI_ThreshL.tif\")\n",
    "\n",
    "    VARI_Global = imread(\"./VARI/Thresh/\" + row.Image + \"_VARI_ThreshG.tif\")\n",
    "\n",
    "    VARI_Zero = imread(\"./VARI/Thresh/\" + row.Image + \"_VARI_Thresh_Zero.tif\")\n",
    "    \n",
    "    combined = EXG_Local + EXG_Global + EXG_Zero + EXGR_Local + EXGR_Global + EXGR_Zero + GLI_Local + GLI_Global + GLI_Zero + VARI_Local + VARI_Global + VARI_Zero \n",
    "    \n",
    "    nonveg = np.where(combined < 6, 0, combined)\n",
    "    veg_nt = np.where(nonveg > 6, 0, nonveg)\n",
    "    classified = np.where(veg_nt ==6, EXGR_Zero, veg_nt)\n",
    "    \n",
    "    imsave(out_dir + row.Image + \"_Mode.tif\", classified, check_contrast = False)\n",
    "    \n",
    "    if count % 42 == 0:\n",
    "        print(\"Done with image \" + row.Image + \"...\\n\")\n",
    "    count = count + 1 \n",
    "\n",
    "print(\"Mode Classification Complete!!!\")\n",
    "    \n",
    "    "
   ]
  },
  {
   "cell_type": "code",
   "execution_count": null,
   "id": "9ebd55e7",
   "metadata": {},
   "outputs": [],
   "source": []
  }
 ],
 "metadata": {
  "kernelspec": {
   "display_name": "Python 3 (ipykernel)",
   "language": "python",
   "name": "python3"
  },
  "language_info": {
   "codemirror_mode": {
    "name": "ipython",
    "version": 3
   },
   "file_extension": ".py",
   "mimetype": "text/x-python",
   "name": "python",
   "nbconvert_exporter": "python",
   "pygments_lexer": "ipython3",
   "version": "3.10.2"
  }
 },
 "nbformat": 4,
 "nbformat_minor": 5
}
