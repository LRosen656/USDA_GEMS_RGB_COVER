{
 "cells": [
  {
   "cell_type": "markdown",
   "id": "bf2c8e83",
   "metadata": {},
   "source": [
    "# Image Classification: Zero Threshold\n",
    "\n",
    "This notebook uses the vegetation indicies created in '1.0_Vegetation_Index.ipynb' and the dataframe created in '0.3_DataFrame_Mean_Green.ipynb' to classify images as vegetation or non-vegetation. First, the dataframe is uploaded and used to call the images in each vegetation index. Finally a zero will be used to reclassify the images. \n",
    "\n",
    "-Luke Rosen"
   ]
  },
  {
   "cell_type": "code",
   "execution_count": 1,
   "id": "ee7cf623",
   "metadata": {},
   "outputs": [],
   "source": [
    "import os\n",
    "import matplotlib\n",
    "import matplotlib.pyplot as plt\n",
    "import numpy as np\n",
    "import glob\n",
    "import skimage\n",
    "from skimage.io import imread, imsave, imshow\n",
    "from skimage.filters import threshold_otsu\n",
    "import pandas as pd"
   ]
  },
  {
   "cell_type": "code",
   "execution_count": 2,
   "id": "91a277d9",
   "metadata": {},
   "outputs": [],
   "source": [
    "Oat_Data = pd.read_csv(\"Oat_Data.csv\") #Uploaded but not modifying the dataframe.\n"
   ]
  },
  {
   "cell_type": "markdown",
   "id": "8fdd890e",
   "metadata": {},
   "source": [
    "# Defining Zero Threshold\n",
    "\n",
    "The next cell defines how the local threshold will be used. First, a new output will be made if it dosen't exist. Then Pandas dataframe will call the index image and the threshold.  Numpy will be used to reclassify the image. Finally, the classified image is saved to the new output.\n",
    "\n",
    "Scikit Images Otsu's Threshold outputs as number where anything greater than the number is classified as foreground (vegetation) and anything less than the threshold is classified as background (non-vegetation). To input this in the Numpy Matrix, Numpy uses the where clause to create a conditional statement."
   ]
  },
  {
   "cell_type": "code",
   "execution_count": 4,
   "id": "9df446a9",
   "metadata": {},
   "outputs": [],
   "source": [
    "def Thresh_Zero(Image = None, Index = None, Thresh = 0):\n",
    "    if not os.path.exists(\"./\" + str(Index) + \"/Thresh\"):             ##Creates path if doesn't exist\n",
    "        os.mkdir(\"./\" + Index + \"/Thresh\")\n",
    "    img = imread(\"./\" + Index + \"/\" + str(Image) + \"_\" + Index + \".tif\")\n",
    "    classified = np.where(img>Thresh, 1, 0)     ##Reclassifies everything greater than thresh as 1 else zero\n",
    "\n",
    "    imsave(\"./\" + Index + \"/Thresh/\" + Image + \"_\" + Index + \"_Thresh_Zero.tif\", classified, check_contrast = False)"
   ]
  },
  {
   "cell_type": "code",
   "execution_count": 5,
   "id": "7a675ea9",
   "metadata": {},
   "outputs": [
    {
     "name": "stdout",
     "output_type": "stream",
     "text": [
      "Starting Zero Threshold...\n",
      "\n",
      "Done with image 101A_20210708...\n",
      "\n",
      "Done with image 205A_20210708...\n",
      "\n",
      "Done with image 309A_20210708...\n",
      "\n",
      "Done with image 103A_20210821...\n",
      "\n",
      "Done with image 207A_20210821...\n",
      "\n",
      "Done with image 401A_20210821...\n",
      "\n",
      "Done with image 105A_20210909...\n",
      "\n",
      "Done with image 209A_20210909...\n",
      "\n",
      "Done with image 403A_20210909...\n",
      "\n",
      "Done with image 107A_20210929...\n",
      "\n",
      "Done with image 301A_20210929...\n",
      "\n",
      "Done with image 405A_20210929...\n",
      "\n",
      "Done with image 109A_20211005...\n",
      "\n",
      "Done with image 303A_20211005...\n",
      "\n",
      "Done with image 407A_20211005...\n",
      "\n",
      "Done with image 201A_20211015...\n",
      "\n",
      "Done with image 305A_20211015...\n",
      "\n",
      "Done with image 409A_20211015...\n",
      "\n",
      "Done with image 203A_20211025...\n",
      "\n",
      "Done with image 307A_20211025...\n",
      "\n",
      "Zero Threshold Complete!!!\n"
     ]
    }
   ],
   "source": [
    "count = 0\n",
    "print(\"Starting Zero Threshold...\\n\")\n",
    "for index, row in Oat_Data.iterrows():\n",
    "    Thresh_Zero(row.Image, \"EXG\")\n",
    "    Thresh_Zero(row.Image, \"EXGR\")\n",
    "    Thresh_Zero(row.Image, \"GLI\")\n",
    "    Thresh_Zero(row.Image, \"VARI\")\n",
    "    if count % 42 ==0:\n",
    "        print(\"Done with image \" + row.Image + \"...\\n\")\n",
    "    count = count +1\n",
    "    \n",
    "print(\"Zero Threshold Complete!!!\")\n"
   ]
  },
  {
   "cell_type": "markdown",
   "id": "bab226e8",
   "metadata": {},
   "source": [
    "This notebook is complete. The next notebook will do a ground truth on selected images."
   ]
  }
 ],
 "metadata": {
  "kernelspec": {
   "display_name": "Python 3 (ipykernel)",
   "language": "python",
   "name": "python3"
  },
  "language_info": {
   "codemirror_mode": {
    "name": "ipython",
    "version": 3
   },
   "file_extension": ".py",
   "mimetype": "text/x-python",
   "name": "python",
   "nbconvert_exporter": "python",
   "pygments_lexer": "ipython3",
   "version": "3.10.2"
  }
 },
 "nbformat": 4,
 "nbformat_minor": 5
}
