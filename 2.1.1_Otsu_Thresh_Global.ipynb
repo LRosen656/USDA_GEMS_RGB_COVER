{
 "cells": [
  {
   "cell_type": "markdown",
   "id": "7f822f8c",
   "metadata": {},
   "source": [
    "# Image Classification: Otsu's Method (Global)\n",
    "\n",
    "This notebook uses the vegetation indicies created in '1.0_Vegetation_Index.ipynb' and the dataframe created in '0.3_DataFrame_Mean_Green.ipynb' to classify images as vegetation or non-vegetation. First, the dataframe is uploaded and used to call the images in each vegetation index. Finally The global threshold found in '2.1.0_Collecting_Global_Threshold.ipynb' will be used to reclassify the images. \n",
    "\n",
    "\n",
    "-Luke Rosen\n",
    "\n",
    "5/5/2022\n",
    "\n",
    "\n"
   ]
  },
  {
   "cell_type": "code",
   "execution_count": 1,
   "id": "ee7cf623",
   "metadata": {},
   "outputs": [],
   "source": [
    "import os\n",
    "import matplotlib\n",
    "import matplotlib.pyplot as plt\n",
    "import numpy as np\n",
    "import glob\n",
    "import skimage\n",
    "from skimage.io import imread, imsave, imshow\n",
    "from skimage.filters import threshold_otsu\n",
    "import pandas as pd"
   ]
  },
  {
   "cell_type": "code",
   "execution_count": 2,
   "id": "91a277d9",
   "metadata": {},
   "outputs": [],
   "source": [
    "# Dataframe is just being called not updated.\n",
    "Oat_Data = pd.read_csv(\"./Oat_Data.csv\")\n"
   ]
  },
  {
   "cell_type": "markdown",
   "id": "c7c77afc",
   "metadata": {},
   "source": [
    "# Defining Gocal Threshold\n",
    "\n",
    "The next cell defines how the local threshold will be used. First, a new output will be made if it dosen't exist. Then Pandas dataframe will call the index image and the threshold.  Numpy will be used to reclassify the image. Finally, the classified image is saved to the new output.\n",
    "\n",
    "Scikit Images Otsu's Threshold outputs as number where anything greater than the number is classified as foreground (vegetation) and anything less than the threshold is classified as background (non-vegetation). To input this in the Numpy Matrix, Numpy uses the where clause to create a conditional statement."
   ]
  },
  {
   "cell_type": "code",
   "execution_count": 3,
   "id": "3688c9a6",
   "metadata": {},
   "outputs": [],
   "source": [
    "def global_thresh(Image = None, Index = None, Global_Thresh = None): ## Image, string, number\n",
    "    if not os.path.exists(\"./\" + str(Index) + \"/Thresh\"):             ##Creates path if doesn't exist\n",
    "        os.mkdir(\"./\" + Index + \"/Thresh\")\n",
    "    img = imread(\"./\" + str(Index) + \"/\" + Image + \"_\" + str(Index) + \".tif\")\n",
    "\n",
    "            \n",
    "    Thresh = Global_Thresh                #Global Thresh found in dataframe.\n",
    "    classified = np.where(img>Thresh, 1, 0)     ##Reclassifies everything greater than thresh as 1 else zero\n",
    "    \n",
    "    imsave(\"./\" + str(Index) + \"/Thresh/\" + Image + \"_\" + str(Index) + \"_ThreshG.tif\", classified, check_contrast = False)\n",
    "\n"
   ]
  },
  {
   "cell_type": "code",
   "execution_count": 4,
   "id": "d1e4d046",
   "metadata": {},
   "outputs": [
    {
     "name": "stdout",
     "output_type": "stream",
     "text": [
      "Starting Global Threshold...\n",
      "\n",
      "Done with image 101A_20210708...\n",
      "\n",
      "Done with image 205A_20210708...\n",
      "\n",
      "Done with image 309A_20210708...\n",
      "\n",
      "Done with image 103A_20210821...\n",
      "\n",
      "Done with image 207A_20210821...\n",
      "\n",
      "Done with image 401A_20210821...\n",
      "\n",
      "Done with image 105A_20210909...\n",
      "\n",
      "Done with image 209A_20210909...\n",
      "\n",
      "Done with image 403A_20210909...\n",
      "\n",
      "Done with image 107A_20210929...\n",
      "\n",
      "Done with image 301A_20210929...\n",
      "\n",
      "Done with image 405A_20210929...\n",
      "\n",
      "Done with image 109A_20211005...\n",
      "\n",
      "Done with image 303A_20211005...\n",
      "\n",
      "Done with image 407A_20211005...\n",
      "\n",
      "Done with image 201A_20211015...\n",
      "\n",
      "Done with image 305A_20211015...\n",
      "\n",
      "Done with image 409A_20211015...\n",
      "\n",
      "Done with image 203A_20211025...\n",
      "\n",
      "Done with image 307A_20211025...\n",
      "\n"
     ]
    }
   ],
   "source": [
    "count = 0\n",
    "print(\"Starting Global Threshold...\\n\")\n",
    "for index, row in Oat_Data.iterrows():\n",
    "    image = str(row.Image)\n",
    "    \n",
    "    global_thresh(image, \"EXG\", row.EXG_Global_Thresh)\n",
    "    global_thresh(image, \"EXGR\", row.EXGR_Global_Thresh)\n",
    "    global_thresh(image, \"GLI\", row.GLI_Global_Thresh)\n",
    "    global_thresh(image, \"VARI\", row.VARI_Global_Thresh)\n",
    "    if count % 42 ==0:\n",
    "        print(\"Done with image \" + str(image) + \"...\\n\")\n",
    "    count = count + 1\n",
    "\n",
    "    "
   ]
  },
  {
   "cell_type": "markdown",
   "id": "d76ba1f3",
   "metadata": {},
   "source": [
    "This notebook is complete. The next notebook will use a zero threshold to reclassify the images. "
   ]
  }
 ],
 "metadata": {
  "kernelspec": {
   "display_name": "Python 3 (ipykernel)",
   "language": "python",
   "name": "python3"
  },
  "language_info": {
   "codemirror_mode": {
    "name": "ipython",
    "version": 3
   },
   "file_extension": ".py",
   "mimetype": "text/x-python",
   "name": "python",
   "nbconvert_exporter": "python",
   "pygments_lexer": "ipython3",
   "version": "3.10.2"
  }
 },
 "nbformat": 4,
 "nbformat_minor": 5
}
