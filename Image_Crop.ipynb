{
 "cells": [
  {
   "cell_type": "markdown",
   "id": "7d03822d",
   "metadata": {},
   "source": [
    "# Cropping Plot Images to the Center 2/3rds \n",
    "\n",
    "This Notebook uses openCV to crop the plot images made in \"Rename_Images.ipynb\" and saves all dates to a new directory. It also relables the images as \"Plot#_YYYYMMDD\" so that the date follows the image as four-digit year and converts the file format from a jpeg to a tiff to avoid compression.\n",
    "\n",
    "-Luke Rosen\n",
    "\n",
    "2/16/2022\n",
    "\n",
    "Update 3/10/2022\n",
    "\n",
    "Creates an offset to remove the cart. \n",
    "\n",
    "Cuts the image to a square\n",
    "\n"
   ]
  },
  {
   "cell_type": "code",
   "execution_count": 1,
   "id": "ca6f94a9",
   "metadata": {},
   "outputs": [],
   "source": [
    "import os\n",
    "import glob\n",
    "import shutil\n",
    "import numpy as np\n",
    "import cv2"
   ]
  },
  {
   "cell_type": "markdown",
   "id": "6806d76c",
   "metadata": {},
   "source": [
    "## Environment and Directories\n",
    "\n",
    "The packages used in notebook are in the ag_env. Os, glob, and shultil are used to navigate, and copy directories and files. OpenCV and numpy are used to crop the images. \n",
    "\n",
    "All the files cropped are in the \"images labeled\" directory in the jpeg file format. Once cropped, they are written to \"images_cropthird_square_offset_tif\" as a tif format. "
   ]
  },
  {
   "cell_type": "code",
   "execution_count": 2,
   "id": "a2efc9c0",
   "metadata": {},
   "outputs": [],
   "source": [
    "src_dir = \"L:/USDA/images_labeled/\"  ##Source directory\n",
    "os.chdir(src_dir)\n",
    "if not os.path.exists(\"L:/USDA/images_crop_third_square_offset_tif\"):\n",
    "    os.mkdir(\"L:/USDA/images_crop_third_square_offset_tif\")\n",
    "\n",
    "new_dir = \"L:/USDA/images_crop_third_square_offset_tif\" ##New directory."
   ]
  },
  {
   "cell_type": "markdown",
   "id": "96da7ae6",
   "metadata": {},
   "source": [
    "## Cropping Function\n",
    "\n",
    "The next cell creates a cropping function to crop the image to the near center based in input divide and the location of the cart (or other noninterest objects). First, the output name is created by taking the date of the folder and splitting it to year, month, day. Next, the image is open using OpenCV. The image is then cut to a square and recentered depending on if image taller than wide or vice versa. Another offset is added based on where noninterest objects (e.g. the cart bar) are in the image. These exception offsets were found experimentally by looking at images without offsets and meauring the cart bar.\n",
    "\n",
    "Once the input  of the cropping amount is put in the fucntion (in this case, the interger 3 will divide it into thirds), the image will be cropped based onthe sum of the inputs and offsets.\n",
    "\n",
    "\n",
    "\n"
   ]
  },
  {
   "cell_type": "code",
   "execution_count": 3,
   "id": "197291fa",
   "metadata": {},
   "outputs": [],
   "source": [
    "\n",
    "\n",
    "def crop_image(image=None, year=\"0000\", month=\"00\", day=\"00\", divide=3, height_exception= -500, width_exception= 500):   \n",
    "    if len(month) == 1:\n",
    "        month = \"0\" + month ##Adds a leading \"0\" if month is single digit\n",
    "    if len(day) == 1:\n",
    "        day = \"0\" + day     ##Adds a leading \"0\" if day is single digit\n",
    "    plot = image.split(\".\") ##removes \".tif\" from image name\n",
    "    img = cv2.imread(image)\n",
    "    height = img.shape[0]   ##Image Height\n",
    "    width = img.shape[1]    ##Image Witdth\n",
    "    if height>= width:\n",
    "        height_offset = int((height - width)/2) ## Centers the new height\n",
    "        width_offset = 0                        ## Width center will not change\n",
    "        height = width                          ## Turns area into a square\n",
    "    else:\n",
    "        height_offset = 0                       ## Height center will not changes \n",
    "        width_offset = int((width - height)/2)  ## Centers the new width\n",
    "        width = height                          ## Turns area into a square\n",
    "    crop_height = int(height/divide)    ##Divides image height into thirds\n",
    "    crop_width = int(width/divide)      ##Divides image width into thirds\n",
    "    crop_image = img[crop_height + height_offset + height_exception:height-crop_height + height_offset + height_exception, \n",
    "                     crop_width+ width_offset + width_exception:width-crop_width + width_offset + width_exception] ##1/3 in height, 1/3 in width.\n",
    "    os.chdir(new_dir)\n",
    "    cv2.imwrite(plot[0] + \"_\" + year + month + day + \".tif\", crop_image)  ##Plot#_yyyymmdd.tif\n",
    "  \n",
    "    \n",
    "\n",
    "\n",
    "\n",
    "        "
   ]
  },
  {
   "cell_type": "markdown",
   "id": "008f0191",
   "metadata": {},
   "source": [
    "## Running the function\n",
    "\n",
    "The final cell will crop the images and save them to a new directory. First, the new directory will be made. Then, the tool crop_image will be created. The tool first takes the date of the directory and adds a leading \"0\" if the month or day are single digits. It then opens the image and uses the shape to divide it into thirds. Finally, it will create a cropped image and save it to a new directory with a new name. \n",
    "\n",
    "For most of the images, moving the center 500 pixels up and 500 pixels to the right will avoid the cart bar. For the images on September 29th, the cart bar was still seen on the left side of the image after the initial crop, so an additional 500 pixels were added to the width to add it further to the right. Finally, plot 209B on October 25th had sensing equipment in the upper right, so the image was moved to the upper left.  \n",
    "\n",
    "A final note is that images with \"labels\" in them will be skipped."
   ]
  },
  {
   "cell_type": "code",
   "execution_count": 4,
   "id": "05e3b5cd",
   "metadata": {},
   "outputs": [
    {
     "name": "stdout",
     "output_type": "stream",
     "text": [
      "Working on images in folder 10.25.2021...\n",
      "\n",
      "Done with date 10.25.2021...\n",
      "\n",
      "Working on images in folder 7.8.2021...\n",
      "\n",
      "Done with date 7.8.2021...\n",
      "\n",
      "Working on images in folder 8.21.2021...\n",
      "\n",
      "Done with date 8.21.2021...\n",
      "\n",
      "Working on images in folder 10.15.2021...\n",
      "\n",
      "Done with date 10.15.2021...\n",
      "\n",
      "Working on images in folder 9.9.2021...\n",
      "\n",
      "Done with date 9.9.2021...\n",
      "\n",
      "Working on images in folder 9.29.2021...\n",
      "\n",
      "Done with date 9.29.2021...\n",
      "\n",
      "Working on images in folder 10.05.2021...\n",
      "\n",
      "Done with date 10.05.2021...\n",
      "\n",
      "Cropping Images Complete!!!\n"
     ]
    }
   ],
   "source": [
    "os.chdir(src_dir)\n",
    "for folder in glob.glob(\"*\"):\n",
    "    print(\"Working on images in folder \" + folder + \"...\\n\")\n",
    "    month, day, year = folder.split(\".\")   \n",
    "    os.chdir(src_dir)\n",
    "    os.chdir(folder)\n",
    "    if folder == \"9.29.2021\":\n",
    "        for jpeg in glob.glob(\"*.jpg\"):\n",
    "            if \"label\" in jpeg:         ##Skipping images with labels\n",
    "                pass\n",
    "            else:\n",
    "                crop_image(jpeg, year, month, day, 3, height_exception = -500, width_exception = 1000)\n",
    "                os.chdir(src_dir + \"/\" + folder)\n",
    "    else:\n",
    "        for jpeg in glob.glob(\"*.jpg\"):\n",
    "            if \"label\" in jpeg:         ##Skipping images with labels\n",
    "                pass\n",
    "            elif folder == \"10.25.2021\" and jpeg ==\"209B.jpg\":\n",
    "                crop_image(jpeg, year, month, day, 3, height_exception = -500, width_exception = -700)\n",
    "                os.chdir(src_dir + \"/\" + folder)\n",
    "            else:\n",
    "                crop_image(jpeg, year, month, day, 3, -500, 500)\n",
    "                os.chdir(src_dir + \"/\" + folder)\n",
    "    print(\"Done with date \" + folder + \"...\\n\")\n",
    "print(\"Cropping Images Complete!!!\")\n"
   ]
  },
  {
   "cell_type": "markdown",
   "id": "7022e2ee",
   "metadata": {},
   "source": [
    "This notebook is complete. The next notebook will create vegetation indicies from the processed images. "
   ]
  },
  {
   "cell_type": "code",
   "execution_count": null,
   "id": "d983afc7",
   "metadata": {},
   "outputs": [],
   "source": []
  }
 ],
 "metadata": {
  "kernelspec": {
   "display_name": "Python 3 (ipykernel)",
   "language": "python",
   "name": "python3"
  },
  "language_info": {
   "codemirror_mode": {
    "name": "ipython",
    "version": 3
   },
   "file_extension": ".py",
   "mimetype": "text/x-python",
   "name": "python",
   "nbconvert_exporter": "python",
   "pygments_lexer": "ipython3",
   "version": "3.10.2"
  }
 },
 "nbformat": 4,
 "nbformat_minor": 5
}
