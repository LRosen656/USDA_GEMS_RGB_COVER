{
 "cells": [
  {
   "cell_type": "markdown",
   "id": "b48139ed",
   "metadata": {},
   "source": [
    "# Vetetation Index\n",
    "\n",
    "This notebook takes the prepared images from \"Crop Image\" and the dataframe from \"Dataframe_Mean_Green\" to create four vegetation indicies for each image. The indicies used are Excess Green (ExG), Excess Green minus Red (ExGR), Green Leaf Index (GLI), and Visible Atmospherically Resistant Index (VARI). First Index directories are created (if they don't already exist). Then Each index is defined:\n",
    "\n",
    "ExG = 2Green(n) - Red(n) - Blue(n)\n",
    "\n",
    "ExGR = 3Green(n) - 2.4Red(n) - Blue(n)\n",
    "\n",
    "GLI = 2Green(c) - Red(c) - Blue(c)/2Green(c) + Red(c) + Blue(c)\n",
    "\n",
    "VARI = Green(c) - Red(c)/Green(c) + Red(c) - Blue(c)\n",
    "\n",
    "Where Band(c) is the extracted band from the image ranging from 0-255 and Band(n) is a normalized version of that band defined as:\n",
    " \n",
    "Band(n) = Band(c)/Red(c) + Green(c) + Blue(c)\n",
    "\n",
    "The outputs collect the indicies to their respective outputs and the mean values of each image index.\n",
    "\n",
    "A few notes: first, all the color bands were converted from dtype 'uint8' to a float so that the math would work. Second any invaid value (e.g. 0/0) was redefined as 0.\n",
    "\n",
    "Luke Rosen\n",
    "\n",
    "4/28/2022\n",
    "\n",
    "\n",
    "Update 5/19/2022\n",
    "\n",
    "Change \"Mean\" to \"Avg\"."
   ]
  },
  {
   "cell_type": "code",
   "execution_count": 1,
   "id": "ea467546",
   "metadata": {},
   "outputs": [],
   "source": [
    "import os\n",
    "import matplotlib\n",
    "import matplotlib.pyplot as plt\n",
    "import numpy as np\n",
    "import skimage\n",
    "from skimage.io import imread, imsave\n",
    "from  datetime import datetime\n",
    "import pandas as pd"
   ]
  },
  {
   "cell_type": "code",
   "execution_count": 2,
   "id": "e27e9b46",
   "metadata": {},
   "outputs": [],
   "source": [
    "#Opening and moving old dataframe.\n",
    "Oat_Data = pd.read_csv(\"./Oat_Data.csv\")\n",
    "if not os.path.exists(\"./Archive\"):\n",
    "    os.mkdir(\"./Archive\")\n",
    "Oat_Data.to_csv(\"./Archive/Oat_Data_\" + str(datetime.today().month) + \"_\" + str(datetime.today().day) + \".csv\", index = False)\n",
    "\n"
   ]
  },
  {
   "cell_type": "code",
   "execution_count": 3,
   "id": "6da90311",
   "metadata": {},
   "outputs": [],
   "source": [
    "#Creating Directories\n",
    "src = (\"./images_prepared/\")\n",
    "exg_dir =  \"./EXG/\"\n",
    "exgr_dir = \"./EXGR/\"\n",
    "gli_dir = \"./GLI/\"\n",
    "vari_dir = \"./VARI/\"\n",
    "if not os.path.exists(exg_dir):\n",
    "    os.mkdir(exg_dir)\n",
    "if not os.path.exists(exgr_dir):\n",
    "    os.mkdir(exgr_dir)\n",
    "if not os.path.exists(gli_dir):\n",
    "    os.mkdir(gli_dir)\n",
    "if not os.path.exists(vari_dir):\n",
    "    os.mkdir(vari_dir)\n"
   ]
  },
  {
   "cell_type": "markdown",
   "id": "f20e78cb",
   "metadata": {},
   "source": [
    "Defining each index"
   ]
  },
  {
   "cell_type": "code",
   "execution_count": 4,
   "id": "b8988198",
   "metadata": {},
   "outputs": [],
   "source": [
    "def EXG(output = None, name = None, Red_N= None, Green_N= None, Blue_N=None, EXG_Mean_Image = None): \n",
    "    result = (2.0 * Green_N) - Red_N - Blue_N  #ExG\n",
    "    EXG_Mean_Image.append(result.mean())         #Mean Index\n",
    "    imsave(output + name +\"_EXG.tif\", result) #appending mean index result"
   ]
  },
  {
   "cell_type": "code",
   "execution_count": 5,
   "id": "a6364995",
   "metadata": {},
   "outputs": [],
   "source": [
    "def EXGR(output = None, name = None, Red_N= None, Green_N= None, Blue_N=None, EXGR_Mean_Image = None):\n",
    "    result = (3.0 * Green_N) - (2.4 * Red_N) - Blue_N  #ExGR\n",
    "    EXGR_Mean_Image.append(result.mean())       #Mean Index  \n",
    "    imsave(output + name + \"_EXGR.tif\", result) #appending mean index result"
   ]
  },
  {
   "cell_type": "code",
   "execution_count": 6,
   "id": "c31ef577",
   "metadata": {},
   "outputs": [],
   "source": [
    "def GLI(output = None, name = None, Red_C= None, Green_C= None, Blue_C=None, GLI_Mean_Image = None):\n",
    "    result = ((2.0 * Green_C) - Red_C - Blue_C)/((2.0 * Green_C) + Red_C + Blue_C) #GLI\n",
    "    result[np.isnan(result)] = 0    #0/0 = 0\n",
    "    result[np.isinf(result)] = 0    #N/0 = 0\n",
    "    GLI_Mean_Image.append(result.mean()) #Mean Index\n",
    "    imsave(output + name + \"_GLI.tif\", result) #appending mean index result"
   ]
  },
  {
   "cell_type": "code",
   "execution_count": 7,
   "id": "aa6512a0",
   "metadata": {},
   "outputs": [],
   "source": [
    "def VARI(output = None, name = None, Red_C= None, Green_C= None, Blue_C=None, VARI_Mean_Image = None):\n",
    "    result = ((1.0 * Green_C) - Red_C)/((1.0 * Green_C) + Red_C - Blue_C)     #VARI\n",
    "    result[np.isnan(result)] = 0      #0/0 = 0\n",
    "    result[np.isinf(result)] = 0      #N/0 =0\n",
    "    VARI_Mean_Image.append(result.mean())       #Mean Index\n",
    "    imsave(output + name + \"_VARI.tif\", result) #appending mean index result"
   ]
  },
  {
   "cell_type": "markdown",
   "id": "4f039dd1",
   "metadata": {},
   "source": [
    "## Running the Function\n",
    "\n",
    "This next cell uses the Oat Data dataframe to access the images and perform the indicies. First, empty colums are made to append the mean results. Then, the dataframe is used to open each image. Each image band is defined as well as the normailzed band. Finally the defined indicies are performed. The final cell saves the dataframe. "
   ]
  },
  {
   "cell_type": "code",
   "execution_count": 8,
   "id": "96f9fab8",
   "metadata": {
    "scrolled": true
   },
   "outputs": [
    {
     "name": "stdout",
     "output_type": "stream",
     "text": [
      "Starting Vegetation Indices...\n",
      "Done with image 101A_20210708...\n",
      "\n",
      "Done with image 205A_20210708...\n",
      "\n",
      "Done with image 309A_20210708...\n",
      "\n",
      "Done with image 103A_20210821...\n",
      "\n",
      "Done with image 207A_20210821...\n",
      "\n",
      "Done with image 401A_20210821...\n",
      "\n",
      "Done with image 105A_20210909...\n",
      "\n",
      "Done with image 209A_20210909...\n",
      "\n",
      "Done with image 403A_20210909...\n",
      "\n",
      "Done with image 107A_20210929...\n",
      "\n",
      "Done with image 301A_20210929...\n",
      "\n",
      "Done with image 405A_20210929...\n",
      "\n",
      "Done with image 109A_20211005...\n",
      "\n",
      "Done with image 303A_20211005...\n",
      "\n",
      "Done with image 407A_20211005...\n",
      "\n",
      "Done with image 201A_20211015...\n",
      "\n",
      "Done with image 305A_20211015...\n",
      "\n",
      "Done with image 409A_20211015...\n",
      "\n",
      "Done with image 203A_20211025...\n",
      "\n",
      "Done with image 307A_20211025...\n",
      "\n",
      "All images done...\n",
      "\n",
      "Vegetaion Index Complete!!!\n"
     ]
    }
   ],
   "source": [
    "count = 0\n",
    "EXG_Mean_Image = []\n",
    "EXGR_Mean_Image = []\n",
    "GLI_Mean_Image = []\n",
    "VARI_Mean_Image = []\n",
    "\n",
    "with np.errstate(divide = \"ignore\", invalid = \"ignore\"):\n",
    "    print(\"Starting Vegetation Indices...\")\n",
    "    for index, row in Oat_Data.iterrows():\n",
    "        name = row.Image\n",
    "        \n",
    "        img = imread(src + name + \".tif\")        \n",
    "        \n",
    "        Red_c = img[:,:,0] * 1.0     ## Red color band as float\n",
    "\n",
    "        Green_c = img[:,:,1] * 1.0   ## Green color band as float\n",
    " \n",
    "        Blue_c = img[:,:,2] * 1.0    ## Blue color band as fload\n",
    "\n",
    "        Red_n = Red_c/(Red_c + Green_c + Blue_c)   ## Normalize Red\n",
    "        Red_n[np.isnan(Red_n)] = 0\n",
    "        Red_n[np.isinf(Red_n)] = 0\n",
    "\n",
    "        Green_n = Green_c/(Red_c + Green_c + Blue_c) ## Normalize Green\n",
    "        Green_n[np.isnan(Green_n)] = 0\n",
    "        Green_n[np.isinf(Green_n)] = 0\n",
    "\n",
    "        Blue_n = Blue_c/(Red_c + Green_c + Blue_c) ## Normalize Blue\n",
    "        Blue_n[np.isnan(Blue_n)] = 0\n",
    "        Blue_n[np.isinf(Blue_n)] = 0\n",
    "        \n",
    "        EXG(exg_dir, name, Red_n, Green_n, Blue_n, EXG_Mean_Image)\n",
    "        EXGR(exgr_dir, name, Red_n, Green_n, Blue_n, EXGR_Mean_Image)\n",
    "        GLI(gli_dir, name, Red_c, Green_c, Blue_c, GLI_Mean_Image)\n",
    "        VARI(vari_dir, name, Red_c, Green_c, Blue_c, VARI_Mean_Image)\n",
    "        if count % 42 == 0:\n",
    "            print(\"Done with image \" + name + \"...\\n\")\n",
    "        count = count + 1\n",
    "    print(\"All images done...\\n\")\n",
    "print(\"Vegetaion Index Complete!!!\")"
   ]
  },
  {
   "cell_type": "code",
   "execution_count": 9,
   "id": "46c94319",
   "metadata": {},
   "outputs": [],
   "source": [
    "#Appending and saving dataframe.\n",
    "Oat_Data[\"EXG_Avg_Image\"] = EXG_Mean_Image\n",
    "Oat_Data[\"EXGR_Avg_Image\"] = EXGR_Mean_Image\n",
    "Oat_Data[\"GLI_Avg_Image\"] = GLI_Mean_Image\n",
    "Oat_Data[\"VARI_Avg_Image\"] = VARI_Mean_Image\n",
    "\n",
    "Oat_Data.to_csv(\"./Oat_Data.csv\", index = False)"
   ]
  },
  {
   "cell_type": "markdown",
   "id": "d6ef6370",
   "metadata": {},
   "source": [
    "This notebook is complete. The next notebook will use Otsu's Threshold locally to classifiy the indexed images. "
   ]
  },
  {
   "cell_type": "code",
   "execution_count": null,
   "id": "f42d545c",
   "metadata": {},
   "outputs": [],
   "source": []
  }
 ],
 "metadata": {
  "kernelspec": {
   "display_name": "Python 3 (ipykernel)",
   "language": "python",
   "name": "python3"
  },
  "language_info": {
   "codemirror_mode": {
    "name": "ipython",
    "version": 3
   },
   "file_extension": ".py",
   "mimetype": "text/x-python",
   "name": "python",
   "nbconvert_exporter": "python",
   "pygments_lexer": "ipython3",
   "version": "3.10.2"
  }
 },
 "nbformat": 4,
 "nbformat_minor": 5
}
