{
 "cells": [
  {
   "cell_type": "markdown",
   "id": "18856dfd",
   "metadata": {},
   "source": [
    "# Creating the Dataframe and Collecting the Average Green Values\n",
    "\n",
    "This notebook takes images in the prepared images directory (created in notebook 0.2) to create a dataframe called \"Oat_Data\" and save it as a csv. It also collects the average green value from each image. First, an archive folder will be created if it does not already exist. Next, if \"Oat_Data.csv\" already exists, it will move it to the archive directory and append the date to the file name. Finally, It will create  a directory that has plot, date, crop variety, cover crop method, and average green value.\n",
    "\n",
    "-Luke Rosen\n",
    "4/25/2022\n",
    "\n",
    "Update 5/16/2022\n",
    "\n",
    "Have Green Average be normalized.\n",
    "\n",
    "Update 5/19/2022\n",
    "\n",
    "Changed \"Mean_Green\" to \"Green_Avg\"."
   ]
  },
  {
   "cell_type": "code",
   "execution_count": 1,
   "id": "e860567c",
   "metadata": {},
   "outputs": [],
   "source": [
    "import os\n",
    "import numpy as np\n",
    "import glob\n",
    "import skimage\n",
    "from skimage.io import imread, imsave, imshow\n",
    "import pandas as pd\n",
    "from datetime import datetime"
   ]
  },
  {
   "cell_type": "code",
   "execution_count": 2,
   "id": "8b903fa3",
   "metadata": {},
   "outputs": [],
   "source": [
    "#Creates Archive folder if it doesn't exist\n",
    "if not os.path.exists(\"./Archive\"):\n",
    "    os.mkdir(\"./Archive\") \n",
    "Old = \"./Archive/\""
   ]
  },
  {
   "cell_type": "code",
   "execution_count": 3,
   "id": "c73b7bd7",
   "metadata": {},
   "outputs": [],
   "source": [
    "#Moves csv if exists (Oat_Data_m_d.csv)\n",
    "if os.path.exists(\"Oat_Data.csv\"):\n",
    "    os.rename(\"Oat_Data.csv\", Old + \"Oat_Data_\" + str(datetime.today().month) + \"_\" + str(datetime.today().day) + \".csv\")"
   ]
  },
  {
   "cell_type": "code",
   "execution_count": 4,
   "id": "2ccd813d",
   "metadata": {},
   "outputs": [],
   "source": [
    "img_path = \"./images_prepared\" #Path to prepared images"
   ]
  },
  {
   "cell_type": "code",
   "execution_count": 5,
   "id": "08032f3c",
   "metadata": {},
   "outputs": [
    {
     "name": "stdout",
     "output_type": "stream",
     "text": [
      "Done with image 101A_20211025...\n",
      "Done with image 308C_20211025...\n",
      "Done with image 205A_20211025...\n",
      "Done with image 103A_20210708...\n",
      "Done with image 207A_20210708...\n",
      "Done with image 401A_20210708...\n",
      "Done with image 103A_20210821...\n",
      "Done with image 310C_20210821...\n",
      "Done with image 207A_20210821...\n",
      "Done with image 304C_20211015...\n",
      "Done with image 201A_20211015...\n",
      "Done with image 408C_20211015...\n",
      "Done with image 105A_20210909...\n",
      "Done with image 402C_20210909...\n",
      "Done with image 209A_20210909...\n",
      "Done with image 306C_20210929...\n",
      "Done with image 203A_20210929...\n",
      "Done with image 410C_20210929...\n",
      "Done with image 107A_20211005...\n",
      "Done with image 404C_20211005...\n",
      "Creating Dataframe...\n",
      "Dataframe Complete!!!\n"
     ]
    }
   ],
   "source": [
    "count = 0\n",
    "Image = []           #Plot_yyyymmdd\n",
    "Plot= []             #Plot\n",
    "Date_Index = []      #yyyymmdd\n",
    "Date = []            #dd/mm/yyyy\n",
    "Variety = []         #Oat or Soy\n",
    "Cover = []           #Fallow, Post, or Under \n",
    "Green_avg = []       # Average Green\n",
    "\n",
    "\n",
    "\n",
    "for tiff in glob.glob(img_path + \"\\*.tif\"):\n",
    "    end_path = tiff.split(\"\\\\\")[-1] #Getting Image Name (Plot_yyyymmdd.tif)\n",
    "    name = end_path.split(\".\")[0]       # Remove 'tif'   (Plot_yyyymmdd)\n",
    "    Image.append(name)\n",
    "    plot, date = name.split(\"_\")  #[plot, yyyymmdd]\n",
    "    Plot.append(plot)\n",
    "    Date_Index.append(date)\n",
    "    new_date = datetime.strptime(str(date), \"%Y%m%d\").strftime(\"%m/%d/%Y\") # yyyymmdd to dd/mm/yyyy\n",
    "    Date.append(new_date)\n",
    "    if plot.startswith(\"106\") or plot.startswith(\"203\") or plot.startswith(\"303\") or plot.startswith(\"404\"): ##Conditions of variety\n",
    "        crop = \"Soy\"\n",
    "        Variety.append(crop)\n",
    "    else:\n",
    "        crop = \"Oat\"\n",
    "        Variety.append(crop)\n",
    "    if plot.startswith(\"1\") and plot.endswith(\"A\") or not plot.startswith(\"1\") and plot.endswith(\"B\"): ##Conditions of cover\n",
    "        cover = \"Fallow\"\n",
    "        Cover.append(cover)\n",
    "    elif plot.startswith(\"1\") and plot.endswith(\"C\") or plot.startswith(\"3\") and plot.endswith(\"C\") or plot.startswith(\"2\") and plot.endswith(\"A\") or plot.startswith(\"4\") and plot.endswith(\"A\"):\n",
    "        cover = \"Under\"\n",
    "        Cover.append(cover)\n",
    "    else:\n",
    "        cover = \"Post\"\n",
    "        Cover.append(cover)\n",
    "    with np.errstate(divide = \"ignore\", invalid = \"ignore\"):\n",
    "        img = imread(tiff)\n",
    "        \n",
    "        Red_c = img[:,:,0] * 1.0     ## Red color band as float\n",
    "\n",
    "        Green_c = img[:,:,1] * 1.0   ## Green color band as float\n",
    " \n",
    "        Blue_c = img[:,:,2] * 1.0    ## Blue color band as fload\n",
    "        \n",
    "        Green_n = Green_c/(Red_c + Green_c + Blue_c) ## Normalize Green\n",
    "        Green_n[np.isnan(Green_n)] = 0\n",
    "        Green_n[np.isinf(Green_n)] = 0\n",
    "    \n",
    "        green_ave = Green_n.mean()                    ##Average green_normalized per image.  \n",
    "        Green_avg.append(green_ave)\n",
    "    \n",
    "    if count % 42 == 0:\n",
    "        print(\"Done with image \" + name + \"...\")\n",
    "    count=count+1\n",
    "print(\"Creating Dataframe...\")\n",
    "Oat_data = pd.DataFrame({\"Image\":Image,         ##Creating dataframe\n",
    "                        \"Plot\":Plot,\n",
    "                        \"Date_Index\":Date_Index,\n",
    "                        \"Date\":Date,\n",
    "                        \"Variety\":Variety,\n",
    "                        \"Cover\":Cover,\n",
    "                        \"Green_Avg_Image\":Green_avg})        \n",
    "\n",
    "print(\"Dataframe Complete!!!\")"
   ]
  },
  {
   "cell_type": "code",
   "execution_count": 6,
   "id": "17648146",
   "metadata": {},
   "outputs": [],
   "source": [
    "Oat_data = Oat_data.sort_values(by= [\"Date\", \"Plot\"]) ##Order by date then plot"
   ]
  },
  {
   "cell_type": "code",
   "execution_count": 7,
   "id": "3b98c3ed",
   "metadata": {},
   "outputs": [],
   "source": [
    "Oat_data.to_csv(\"Oat_Data.csv\", index = False)        ##Saving to csv. "
   ]
  },
  {
   "cell_type": "markdown",
   "id": "3fbb0251",
   "metadata": {},
   "source": [
    "This concludes the notebook. The next notebook will use to dataframe and prepared images to create vegetation indicies. "
   ]
  }
 ],
 "metadata": {
  "kernelspec": {
   "display_name": "Python 3 (ipykernel)",
   "language": "python",
   "name": "python3"
  },
  "language_info": {
   "codemirror_mode": {
    "name": "ipython",
    "version": 3
   },
   "file_extension": ".py",
   "mimetype": "text/x-python",
   "name": "python",
   "nbconvert_exporter": "python",
   "pygments_lexer": "ipython3",
   "version": "3.10.2"
  }
 },
 "nbformat": 4,
 "nbformat_minor": 5
}
