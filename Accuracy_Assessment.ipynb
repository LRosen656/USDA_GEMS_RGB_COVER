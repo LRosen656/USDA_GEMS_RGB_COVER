{
 "cells": [
  {
   "cell_type": "code",
   "execution_count": 1,
   "id": "295baaaf",
   "metadata": {},
   "outputs": [],
   "source": [
    "from sklearn.metrics import confusion_matrix, ConfusionMatrixDisplay, accuracy_score, precision_score, recall_score  \n",
    "import matplotlib.pyplot as plt\n",
    "import numpy as np\n",
    "import pandas as pd\n",
    "import os\n",
    "import glob"
   ]
  },
  {
   "cell_type": "code",
   "execution_count": 2,
   "id": "fbb6f7bf",
   "metadata": {},
   "outputs": [],
   "source": [
    "os.chdir(\"L:/USDA/Stats\")"
   ]
  },
  {
   "cell_type": "code",
   "execution_count": 4,
   "id": "38b5c720",
   "metadata": {},
   "outputs": [],
   "source": [
    "plot = []\n",
    "\n",
    "y_true = []\n",
    "\n",
    "y_pred_exg_L = []\n",
    "\n",
    "y_pred_exgr_L = []\n",
    "\n",
    "y_pred_gli_L = []\n",
    "\n",
    "y_pred_vari_L = []\n",
    "\n",
    "y_pred_exg_G = []\n",
    "\n",
    "y_pred_exgr_G = []\n",
    "\n",
    "y_pred_gli_G = []\n",
    "\n",
    "y_pred_vari_G = []\n",
    "\n",
    "y_pred_exg_Z = []\n",
    "\n",
    "y_pred_exgr_Z = []\n",
    "\n",
    "y_pred_gli_Z = []\n",
    "\n",
    "y_pred_vari_Z = []\n",
    "\n",
    "for stat in glob.glob(\"*.csv\"):\n",
    "\n",
    "    gt = pd.read_csv(stat)\n",
    "\n",
    "\n",
    "    for index, row in gt.iterrows():\n",
    "        plot.append(stat.split(\".\")[0])\n",
    "        y_true.append(row[\"Reference\"].astype(int))\n",
    "        y_pred_exg_L.append(row[\"Predicted_EXG_L\"].astype(int))\n",
    "        y_pred_exgr_L.append(row[\"Predicted_EXGR_L\"].astype(int))\n",
    "        y_pred_gli_L.append(row[\"Predicted_GLI_L\"].astype(int))\n",
    "        y_pred_vari_L.append(row[\"Predicted_VARI_L\"].astype(int))\n",
    "        y_pred_exg_G.append(row[\"Predicted_EXG_G\"].astype(int))\n",
    "        y_pred_exgr_G.append(row[\"Predicted_EXGR_G\"].astype(int))\n",
    "        y_pred_gli_G.append(row[\"Predicted_GLI_G\"].astype(int))\n",
    "        y_pred_vari_G.append(row[\"Predicted_VARI_G\"].astype(int))        \n",
    "        y_pred_exg_Z.append(row[\"Predicted_EXG_Z\"].astype(int))\n",
    "        y_pred_exgr_Z.append(row[\"Predicted_EXGR_Z\"].astype(int))\n",
    "        y_pred_gli_Z.append(row[\"Predicted_GLI_Z\"].astype(int))\n",
    "        y_pred_vari_Z.append(row[\"Predicted_VARI_Z\"].astype(int))\n",
    "stats_df = pd.DataFrame({\"Plot\": plot, \"Reference\": y_true, \"Predicted_EXG_L\":y_pred_exg_L, \n",
    "                                   \"Predicted_EXGR_L\":y_pred_exgr_L, \"Predicted_GLI_L\": y_pred_gli_L, \n",
    "                         \"Predicted_VARI_L\":y_pred_vari_L, \"Predicted_EXG_G\": y_pred_exg_G, \"Predicted_EXGR_G\":y_pred_exgr_G,\n",
    "                        \"Predicted_GLI_G\":y_pred_gli_G, \"Predicted_VARI_G\":y_pred_vari_G,\n",
    "                        \"Predicted_EXG_Z\":y_pred_exg_Z, \"Predicted_EXGR_Z\":y_pred_exgr_Z, \"Predicted_GLI_Z\":y_pred_gli_Z,\n",
    "                        \"Predicted_VARI_Z\":y_pred_gli_Z})        "
   ]
  },
  {
   "cell_type": "code",
   "execution_count": 5,
   "id": "b07ae08f",
   "metadata": {},
   "outputs": [
    {
     "data": {
      "text/html": [
       "<div>\n",
       "<style scoped>\n",
       "    .dataframe tbody tr th:only-of-type {\n",
       "        vertical-align: middle;\n",
       "    }\n",
       "\n",
       "    .dataframe tbody tr th {\n",
       "        vertical-align: top;\n",
       "    }\n",
       "\n",
       "    .dataframe thead th {\n",
       "        text-align: right;\n",
       "    }\n",
       "</style>\n",
       "<table border=\"1\" class=\"dataframe\">\n",
       "  <thead>\n",
       "    <tr style=\"text-align: right;\">\n",
       "      <th></th>\n",
       "      <th>Plot</th>\n",
       "      <th>Reference</th>\n",
       "      <th>Predicted_EXG_L</th>\n",
       "      <th>Predicted_EXGR_L</th>\n",
       "      <th>Predicted_GLI_L</th>\n",
       "      <th>Predicted_VARI_L</th>\n",
       "      <th>Predicted_EXG_G</th>\n",
       "      <th>Predicted_EXGR_G</th>\n",
       "      <th>Predicted_GLI_G</th>\n",
       "      <th>Predicted_VARI_G</th>\n",
       "      <th>Predicted_EXG_Z</th>\n",
       "      <th>Predicted_EXGR_Z</th>\n",
       "      <th>Predicted_GLI_Z</th>\n",
       "      <th>Predicted_VARI_Z</th>\n",
       "    </tr>\n",
       "  </thead>\n",
       "  <tbody>\n",
       "    <tr>\n",
       "      <th>0</th>\n",
       "      <td>302A_20210708</td>\n",
       "      <td>1</td>\n",
       "      <td>1</td>\n",
       "      <td>1</td>\n",
       "      <td>1</td>\n",
       "      <td>1</td>\n",
       "      <td>0</td>\n",
       "      <td>0</td>\n",
       "      <td>0</td>\n",
       "      <td>1</td>\n",
       "      <td>1</td>\n",
       "      <td>0</td>\n",
       "      <td>1</td>\n",
       "      <td>1</td>\n",
       "    </tr>\n",
       "    <tr>\n",
       "      <th>1</th>\n",
       "      <td>302A_20210708</td>\n",
       "      <td>0</td>\n",
       "      <td>1</td>\n",
       "      <td>1</td>\n",
       "      <td>1</td>\n",
       "      <td>1</td>\n",
       "      <td>0</td>\n",
       "      <td>0</td>\n",
       "      <td>0</td>\n",
       "      <td>1</td>\n",
       "      <td>1</td>\n",
       "      <td>0</td>\n",
       "      <td>1</td>\n",
       "      <td>1</td>\n",
       "    </tr>\n",
       "    <tr>\n",
       "      <th>2</th>\n",
       "      <td>302A_20210708</td>\n",
       "      <td>1</td>\n",
       "      <td>1</td>\n",
       "      <td>1</td>\n",
       "      <td>1</td>\n",
       "      <td>1</td>\n",
       "      <td>0</td>\n",
       "      <td>0</td>\n",
       "      <td>0</td>\n",
       "      <td>1</td>\n",
       "      <td>1</td>\n",
       "      <td>0</td>\n",
       "      <td>1</td>\n",
       "      <td>1</td>\n",
       "    </tr>\n",
       "    <tr>\n",
       "      <th>3</th>\n",
       "      <td>302A_20210708</td>\n",
       "      <td>0</td>\n",
       "      <td>1</td>\n",
       "      <td>1</td>\n",
       "      <td>1</td>\n",
       "      <td>1</td>\n",
       "      <td>0</td>\n",
       "      <td>0</td>\n",
       "      <td>0</td>\n",
       "      <td>1</td>\n",
       "      <td>1</td>\n",
       "      <td>1</td>\n",
       "      <td>1</td>\n",
       "      <td>1</td>\n",
       "    </tr>\n",
       "    <tr>\n",
       "      <th>4</th>\n",
       "      <td>302A_20210708</td>\n",
       "      <td>1</td>\n",
       "      <td>1</td>\n",
       "      <td>1</td>\n",
       "      <td>1</td>\n",
       "      <td>1</td>\n",
       "      <td>0</td>\n",
       "      <td>0</td>\n",
       "      <td>0</td>\n",
       "      <td>1</td>\n",
       "      <td>1</td>\n",
       "      <td>1</td>\n",
       "      <td>1</td>\n",
       "      <td>1</td>\n",
       "    </tr>\n",
       "    <tr>\n",
       "      <th>...</th>\n",
       "      <td>...</td>\n",
       "      <td>...</td>\n",
       "      <td>...</td>\n",
       "      <td>...</td>\n",
       "      <td>...</td>\n",
       "      <td>...</td>\n",
       "      <td>...</td>\n",
       "      <td>...</td>\n",
       "      <td>...</td>\n",
       "      <td>...</td>\n",
       "      <td>...</td>\n",
       "      <td>...</td>\n",
       "      <td>...</td>\n",
       "      <td>...</td>\n",
       "    </tr>\n",
       "    <tr>\n",
       "      <th>1675</th>\n",
       "      <td>103C_20210909</td>\n",
       "      <td>0</td>\n",
       "      <td>0</td>\n",
       "      <td>0</td>\n",
       "      <td>0</td>\n",
       "      <td>1</td>\n",
       "      <td>0</td>\n",
       "      <td>0</td>\n",
       "      <td>0</td>\n",
       "      <td>1</td>\n",
       "      <td>1</td>\n",
       "      <td>0</td>\n",
       "      <td>1</td>\n",
       "      <td>1</td>\n",
       "    </tr>\n",
       "    <tr>\n",
       "      <th>1676</th>\n",
       "      <td>103C_20210909</td>\n",
       "      <td>0</td>\n",
       "      <td>0</td>\n",
       "      <td>0</td>\n",
       "      <td>0</td>\n",
       "      <td>1</td>\n",
       "      <td>0</td>\n",
       "      <td>0</td>\n",
       "      <td>0</td>\n",
       "      <td>1</td>\n",
       "      <td>1</td>\n",
       "      <td>0</td>\n",
       "      <td>1</td>\n",
       "      <td>1</td>\n",
       "    </tr>\n",
       "    <tr>\n",
       "      <th>1677</th>\n",
       "      <td>103C_20210909</td>\n",
       "      <td>0</td>\n",
       "      <td>0</td>\n",
       "      <td>0</td>\n",
       "      <td>0</td>\n",
       "      <td>1</td>\n",
       "      <td>0</td>\n",
       "      <td>0</td>\n",
       "      <td>0</td>\n",
       "      <td>1</td>\n",
       "      <td>1</td>\n",
       "      <td>0</td>\n",
       "      <td>1</td>\n",
       "      <td>1</td>\n",
       "    </tr>\n",
       "    <tr>\n",
       "      <th>1678</th>\n",
       "      <td>103C_20210909</td>\n",
       "      <td>1</td>\n",
       "      <td>1</td>\n",
       "      <td>1</td>\n",
       "      <td>1</td>\n",
       "      <td>1</td>\n",
       "      <td>0</td>\n",
       "      <td>1</td>\n",
       "      <td>1</td>\n",
       "      <td>1</td>\n",
       "      <td>1</td>\n",
       "      <td>1</td>\n",
       "      <td>1</td>\n",
       "      <td>1</td>\n",
       "    </tr>\n",
       "    <tr>\n",
       "      <th>1679</th>\n",
       "      <td>103C_20210909</td>\n",
       "      <td>1</td>\n",
       "      <td>1</td>\n",
       "      <td>1</td>\n",
       "      <td>1</td>\n",
       "      <td>1</td>\n",
       "      <td>0</td>\n",
       "      <td>0</td>\n",
       "      <td>1</td>\n",
       "      <td>1</td>\n",
       "      <td>1</td>\n",
       "      <td>1</td>\n",
       "      <td>1</td>\n",
       "      <td>1</td>\n",
       "    </tr>\n",
       "  </tbody>\n",
       "</table>\n",
       "<p>1680 rows × 14 columns</p>\n",
       "</div>"
      ],
      "text/plain": [
       "               Plot  Reference  Predicted_EXG_L  Predicted_EXGR_L  \\\n",
       "0     302A_20210708          1                1                 1   \n",
       "1     302A_20210708          0                1                 1   \n",
       "2     302A_20210708          1                1                 1   \n",
       "3     302A_20210708          0                1                 1   \n",
       "4     302A_20210708          1                1                 1   \n",
       "...             ...        ...              ...               ...   \n",
       "1675  103C_20210909          0                0                 0   \n",
       "1676  103C_20210909          0                0                 0   \n",
       "1677  103C_20210909          0                0                 0   \n",
       "1678  103C_20210909          1                1                 1   \n",
       "1679  103C_20210909          1                1                 1   \n",
       "\n",
       "      Predicted_GLI_L  Predicted_VARI_L  Predicted_EXG_G  Predicted_EXGR_G  \\\n",
       "0                   1                 1                0                 0   \n",
       "1                   1                 1                0                 0   \n",
       "2                   1                 1                0                 0   \n",
       "3                   1                 1                0                 0   \n",
       "4                   1                 1                0                 0   \n",
       "...               ...               ...              ...               ...   \n",
       "1675                0                 1                0                 0   \n",
       "1676                0                 1                0                 0   \n",
       "1677                0                 1                0                 0   \n",
       "1678                1                 1                0                 1   \n",
       "1679                1                 1                0                 0   \n",
       "\n",
       "      Predicted_GLI_G  Predicted_VARI_G  Predicted_EXG_Z  Predicted_EXGR_Z  \\\n",
       "0                   0                 1                1                 0   \n",
       "1                   0                 1                1                 0   \n",
       "2                   0                 1                1                 0   \n",
       "3                   0                 1                1                 1   \n",
       "4                   0                 1                1                 1   \n",
       "...               ...               ...              ...               ...   \n",
       "1675                0                 1                1                 0   \n",
       "1676                0                 1                1                 0   \n",
       "1677                0                 1                1                 0   \n",
       "1678                1                 1                1                 1   \n",
       "1679                1                 1                1                 1   \n",
       "\n",
       "      Predicted_GLI_Z  Predicted_VARI_Z  \n",
       "0                   1                 1  \n",
       "1                   1                 1  \n",
       "2                   1                 1  \n",
       "3                   1                 1  \n",
       "4                   1                 1  \n",
       "...               ...               ...  \n",
       "1675                1                 1  \n",
       "1676                1                 1  \n",
       "1677                1                 1  \n",
       "1678                1                 1  \n",
       "1679                1                 1  \n",
       "\n",
       "[1680 rows x 14 columns]"
      ]
     },
     "execution_count": 5,
     "metadata": {},
     "output_type": "execute_result"
    }
   ],
   "source": [
    "stats_df"
   ]
  },
  {
   "cell_type": "code",
   "execution_count": 8,
   "id": "60080b55",
   "metadata": {},
   "outputs": [
    {
     "data": {
      "image/png": "[encoded data removed]",
      "text/plain": [
       "<Figure size 432x288 with 2 Axes>"
      ]
     },
     "metadata": {
      "needs_background": "light"
     },
     "output_type": "display_data"
    },
    {
     "name": "stdout",
     "output_type": "stream",
     "text": [
      "Overall Accuracy: 0.5101190476190476 \n",
      "\n",
      "Precision: 0.337888198757764 \n",
      "\n",
      "Recall: 0.48398576512455516\n"
     ]
    }
   ],
   "source": [
    "cm =confusion_matrix(stats_df.Reference, stats_df.Predicted_EXG_L)\n",
    "\n",
    "ls= [\"Ground\", \"Vegetation\"]\n",
    "\n",
    "\n",
    "disp= ConfusionMatrixDisplay(confusion_matrix = cm, display_labels= ls)\n",
    "\n",
    "\n",
    "\n",
    "disp.plot()\n",
    "plt.title(\"Local Thresh Excess Green\")\n",
    "plt.show()\n",
    "\n",
    "accuracy = accuracy_score(stats_df.Reference, stats_df.Predicted_EXG_L)\n",
    "\n",
    "precision = precision_score(stats_df.Reference, stats_df.Predicted_EXG_L)\n",
    "\n",
    "recall = recall_score(stats_df.Reference, stats_df.Predicted_EXG_L)\n",
    "\n",
    "\n",
    "print(\"Overall Accuracy:\", accuracy, \"\\n\\n\"\n",
    "      \"Precision:\", precision, \"\\n\\n\"\n",
    "      \"Recall:\", recall)"
   ]
  },
  {
   "cell_type": "code",
   "execution_count": 11,
   "id": "a0e8710d",
   "metadata": {},
   "outputs": [
    {
     "data": {
      "image/png": "[encoded data removed]",
      "text/plain": [
       "<Figure size 432x288 with 2 Axes>"
      ]
     },
     "metadata": {
      "needs_background": "light"
     },
     "output_type": "display_data"
    },
    {
     "name": "stdout",
     "output_type": "stream",
     "text": [
      "Overall Accuracy: 0.42023809523809524 \n",
      "\n",
      "Precision: 0.30639097744360905 \n",
      "\n",
      "Recall: 0.5800711743772242\n"
     ]
    }
   ],
   "source": [
    "cm =confusion_matrix(stats_df.Reference, stats_df.Predicted_EXGR_L)\n",
    "\n",
    "ls= [\"Ground\", \"Vegetation\"]\n",
    "\n",
    "\n",
    "disp= ConfusionMatrixDisplay(confusion_matrix = cm, display_labels= ls)\n",
    "\n",
    "\n",
    "\n",
    "disp.plot()\n",
    "plt.title(\"Local Thresh Excess Green minus Red\")\n",
    "plt.show()\n",
    "\n",
    "accuracy = accuracy_score(stats_df.Reference, stats_df.Predicted_EXGR_L)\n",
    "\n",
    "precision = precision_score(stats_df.Reference, stats_df.Predicted_EXGR_L)\n",
    "\n",
    "recall = recall_score(stats_df.Reference, stats_df.Predicted_EXGR_L)\n",
    "\n",
    "\n",
    "print(\"Overall Accuracy:\", accuracy, \"\\n\\n\"\n",
    "      \"Precision:\", precision, \"\\n\\n\"\n",
    "      \"Recall:\", recall)"
   ]
  },
  {
   "cell_type": "code",
   "execution_count": 12,
   "id": "2d0dca18",
   "metadata": {},
   "outputs": [
    {
     "data": {
      "image/png": "[encoded data removed]",
      "text/plain": [
       "<Figure size 432x288 with 2 Axes>"
      ]
     },
     "metadata": {
      "needs_background": "light"
     },
     "output_type": "display_data"
    },
    {
     "name": "stdout",
     "output_type": "stream",
     "text": [
      "Overall Accuracy: 0.4494047619047619 \n",
      "\n",
      "Precision: 0.33363886342804766 \n",
      "\n",
      "Recall: 0.6476868327402135\n"
     ]
    }
   ],
   "source": [
    "cm =confusion_matrix(stats_df.Reference, stats_df.Predicted_GLI_L)\n",
    "\n",
    "ls= [\"Ground\", \"Vegetation\"]\n",
    "\n",
    "\n",
    "disp= ConfusionMatrixDisplay(confusion_matrix = cm, display_labels= ls)\n",
    "\n",
    "\n",
    "\n",
    "disp.plot()\n",
    "plt.title(\"Local Thresh Green Leaf Index\")\n",
    "plt.show()\n",
    "\n",
    "accuracy = accuracy_score(stats_df.Reference, stats_df.Predicted_GLI_L)\n",
    "\n",
    "precision = precision_score(stats_df.Reference, stats_df.Predicted_GLI_L)\n",
    "\n",
    "recall = recall_score(stats_df.Reference, stats_df.Predicted_GLI_L)\n",
    "\n",
    "\n",
    "print(\"Overall Accuracy:\", accuracy, \"\\n\\n\"\n",
    "      \"Precision:\", precision, \"\\n\\n\"\n",
    "      \"Recall:\", recall)"
   ]
  },
  {
   "cell_type": "code",
   "execution_count": 13,
   "id": "be53bd3d",
   "metadata": {},
   "outputs": [
    {
     "data": {
      "image/png": "[encoded data removed]",
      "text/plain": [
       "<Figure size 432x288 with 2 Axes>"
      ]
     },
     "metadata": {
      "needs_background": "light"
     },
     "output_type": "display_data"
    },
    {
     "name": "stdout",
     "output_type": "stream",
     "text": [
      "Overall Accuracy: 0.3398809523809524 \n",
      "\n",
      "Precision: 0.2868277474668745 \n",
      "\n",
      "Recall: 0.6548042704626335\n"
     ]
    }
   ],
   "source": [
    "cm =confusion_matrix(stats_df.Reference, stats_df.Predicted_VARI_L)\n",
    "\n",
    "ls= [\"Ground\", \"Vegetation\"]\n",
    "\n",
    "\n",
    "disp= ConfusionMatrixDisplay(confusion_matrix = cm, display_labels= ls)\n",
    "\n",
    "\n",
    "\n",
    "disp.plot()\n",
    "plt.title(\"Local Thresh Visible Atmospherically Resistant Index\")\n",
    "plt.show()\n",
    "\n",
    "accuracy = accuracy_score(stats_df.Reference, stats_df.Predicted_VARI_L)\n",
    "\n",
    "precision = precision_score(stats_df.Reference, stats_df.Predicted_VARI_L)\n",
    "\n",
    "recall = recall_score(stats_df.Reference, stats_df.Predicted_VARI_L)\n",
    "\n",
    "\n",
    "print(\"Overall Accuracy:\", accuracy, \"\\n\\n\"\n",
    "      \"Precision:\", precision, \"\\n\\n\"\n",
    "      \"Recall:\", recall)"
   ]
  },
  {
   "cell_type": "code",
   "execution_count": 14,
   "id": "1040d948",
   "metadata": {},
   "outputs": [
    {
     "data": {
      "image/png": "[encoded data removed]",
      "text/plain": [
       "<Figure size 432x288 with 2 Axes>"
      ]
     },
     "metadata": {
      "needs_background": "light"
     },
     "output_type": "display_data"
    },
    {
     "name": "stdout",
     "output_type": "stream",
     "text": [
      "Overall Accuracy: 0.7892857142857143 \n",
      "\n",
      "Precision: 0.8312101910828026 \n",
      "\n",
      "Recall: 0.46441281138790036\n"
     ]
    }
   ],
   "source": [
    "cm =confusion_matrix(stats_df.Reference, stats_df.Predicted_EXG_G)\n",
    "\n",
    "ls= [\"Ground\", \"Vegetation\"]\n",
    "\n",
    "\n",
    "disp= ConfusionMatrixDisplay(confusion_matrix = cm, display_labels= ls)\n",
    "\n",
    "\n",
    "\n",
    "disp.plot()\n",
    "plt.title(\"Global Thresh Excess Green\")\n",
    "plt.show()\n",
    "\n",
    "accuracy = accuracy_score(stats_df.Reference, stats_df.Predicted_EXG_G)\n",
    "\n",
    "precision = precision_score(stats_df.Reference, stats_df.Predicted_EXG_G)\n",
    "\n",
    "recall = recall_score(stats_df.Reference, stats_df.Predicted_EXG_G)\n",
    "\n",
    "\n",
    "print(\"Overall Accuracy:\", accuracy, \"\\n\\n\"\n",
    "      \"Precision:\", precision, \"\\n\\n\"\n",
    "      \"Recall:\", recall)"
   ]
  },
  {
   "cell_type": "code",
   "execution_count": 15,
   "id": "04cd6af2",
   "metadata": {},
   "outputs": [
    {
     "data": {
      "image/png": "[encoded data removed]",
      "text/plain": [
       "<Figure size 432x288 with 2 Axes>"
      ]
     },
     "metadata": {
      "needs_background": "light"
     },
     "output_type": "display_data"
    },
    {
     "name": "stdout",
     "output_type": "stream",
     "text": [
      "Overall Accuracy: 0.8125 \n",
      "\n",
      "Precision: 0.8310991957104558 \n",
      "\n",
      "Recall: 0.5516014234875445\n"
     ]
    }
   ],
   "source": [
    "cm =confusion_matrix(stats_df.Reference, stats_df.Predicted_EXGR_G)\n",
    "\n",
    "ls= [\"Ground\", \"Vegetation\"]\n",
    "\n",
    "\n",
    "disp= ConfusionMatrixDisplay(confusion_matrix = cm, display_labels= ls)\n",
    "\n",
    "\n",
    "\n",
    "disp.plot()\n",
    "plt.title(\"Global Thresh Excess Green minus Red\")\n",
    "plt.show()\n",
    "\n",
    "accuracy = accuracy_score(stats_df.Reference, stats_df.Predicted_EXGR_G)\n",
    "\n",
    "precision = precision_score(stats_df.Reference, stats_df.Predicted_EXGR_G)\n",
    "\n",
    "recall = recall_score(stats_df.Reference, stats_df.Predicted_EXGR_G)\n",
    "\n",
    "\n",
    "print(\"Overall Accuracy:\", accuracy, \"\\n\\n\"\n",
    "      \"Precision:\", precision, \"\\n\\n\"\n",
    "      \"Recall:\", recall)"
   ]
  },
  {
   "cell_type": "code",
   "execution_count": 16,
   "id": "fec1088a",
   "metadata": {},
   "outputs": [
    {
     "data": {
      "image/png": "[encoded data removed]",
      "text/plain": [
       "<Figure size 432x288 with 2 Axes>"
      ]
     },
     "metadata": {
      "needs_background": "light"
     },
     "output_type": "display_data"
    },
    {
     "name": "stdout",
     "output_type": "stream",
     "text": [
      "Overall Accuracy: 0.8196428571428571 \n",
      "\n",
      "Precision: 0.8018648018648019 \n",
      "\n",
      "Recall: 0.6120996441281139\n"
     ]
    }
   ],
   "source": [
    "cm =confusion_matrix(stats_df.Reference, stats_df.Predicted_GLI_G)\n",
    "\n",
    "ls= [\"Ground\", \"Vegetation\"]\n",
    "\n",
    "\n",
    "disp= ConfusionMatrixDisplay(confusion_matrix = cm, display_labels= ls)\n",
    "\n",
    "\n",
    "\n",
    "disp.plot()\n",
    "plt.title(\"Global Thresh Green Leaf Index\")\n",
    "plt.show()\n",
    "\n",
    "accuracy = accuracy_score(stats_df.Reference, stats_df.Predicted_GLI_G)\n",
    "\n",
    "precision = precision_score(stats_df.Reference, stats_df.Predicted_GLI_G)\n",
    "\n",
    "recall = recall_score(stats_df.Reference, stats_df.Predicted_GLI_G)\n",
    "\n",
    "\n",
    "print(\"Overall Accuracy:\", accuracy, \"\\n\\n\"\n",
    "      \"Precision:\", precision, \"\\n\\n\"\n",
    "      \"Recall:\", recall)"
   ]
  },
  {
   "cell_type": "code",
   "execution_count": 17,
   "id": "714df6de",
   "metadata": {},
   "outputs": [
    {
     "data": {
      "image/png": "[encoded data removed]",
      "text/plain": [
       "<Figure size 432x288 with 2 Axes>"
      ]
     },
     "metadata": {
      "needs_background": "light"
     },
     "output_type": "display_data"
    },
    {
     "name": "stdout",
     "output_type": "stream",
     "text": [
      "Overall Accuracy: 0.3345238095238095 \n",
      "\n",
      "Precision: 0.3345238095238095 \n",
      "\n",
      "Recall: 1.0\n"
     ]
    }
   ],
   "source": [
    "cm =confusion_matrix(stats_df.Reference, stats_df.Predicted_VARI_G)\n",
    "\n",
    "ls= [\"Ground\", \"Vegetation\"]\n",
    "\n",
    "\n",
    "disp= ConfusionMatrixDisplay(confusion_matrix = cm, display_labels= ls)\n",
    "\n",
    "\n",
    "\n",
    "disp.plot()\n",
    "plt.title(\"Global Thresh Visible Atmospherically Resistant Index\")\n",
    "plt.show()\n",
    "\n",
    "accuracy = accuracy_score(stats_df.Reference, stats_df.Predicted_VARI_G)\n",
    "\n",
    "precision = precision_score(stats_df.Reference, stats_df.Predicted_VARI_G)\n",
    "\n",
    "recall = recall_score(stats_df.Reference, stats_df.Predicted_VARI_G)\n",
    "\n",
    "\n",
    "print(\"Overall Accuracy:\", accuracy, \"\\n\\n\"\n",
    "      \"Precision:\", precision, \"\\n\\n\"\n",
    "      \"Recall:\", recall)"
   ]
  },
  {
   "cell_type": "code",
   "execution_count": 18,
   "id": "a27cfb18",
   "metadata": {},
   "outputs": [
    {
     "data": {
      "image/png": "[encoded data removed]",
      "text/plain": [
       "<Figure size 432x288 with 2 Axes>"
      ]
     },
     "metadata": {
      "needs_background": "light"
     },
     "output_type": "display_data"
    },
    {
     "name": "stdout",
     "output_type": "stream",
     "text": [
      "Overall Accuracy: 0.5553571428571429 \n",
      "\n",
      "Precision: 0.42835011618900076 \n",
      "\n",
      "Recall: 0.9839857651245552\n"
     ]
    }
   ],
   "source": [
    "cm =confusion_matrix(stats_df.Reference, stats_df.Predicted_EXG_Z)\n",
    "\n",
    "ls= [\"Ground\", \"Vegetation\"]\n",
    "\n",
    "\n",
    "disp= ConfusionMatrixDisplay(confusion_matrix = cm, display_labels= ls)\n",
    "\n",
    "\n",
    "\n",
    "disp.plot()\n",
    "plt.title(\"Zero Thresh Excess Green\")\n",
    "plt.show()\n",
    "\n",
    "accuracy = accuracy_score(stats_df.Reference, stats_df.Predicted_EXG_Z)\n",
    "\n",
    "precision = precision_score(stats_df.Reference, stats_df.Predicted_EXG_Z)\n",
    "\n",
    "recall = recall_score(stats_df.Reference, stats_df.Predicted_EXG_Z)\n",
    "\n",
    "\n",
    "print(\"Overall Accuracy:\", accuracy, \"\\n\\n\"\n",
    "      \"Precision:\", precision, \"\\n\\n\"\n",
    "      \"Recall:\", recall)"
   ]
  },
  {
   "cell_type": "code",
   "execution_count": 19,
   "id": "20ab13b0",
   "metadata": {},
   "outputs": [
    {
     "data": {
      "image/png": "[encoded data removed]",
      "text/plain": [
       "<Figure size 432x288 with 2 Axes>"
      ]
     },
     "metadata": {
      "needs_background": "light"
     },
     "output_type": "display_data"
    },
    {
     "name": "stdout",
     "output_type": "stream",
     "text": [
      "Overall Accuracy: 0.8494047619047619 \n",
      "\n",
      "Precision: 0.748792270531401 \n",
      "\n",
      "Recall: 0.8274021352313167\n"
     ]
    }
   ],
   "source": [
    "cm =confusion_matrix(stats_df.Reference, stats_df.Predicted_EXGR_Z)\n",
    "\n",
    "ls= [\"Ground\", \"Vegetation\"]\n",
    "\n",
    "\n",
    "disp= ConfusionMatrixDisplay(confusion_matrix = cm, display_labels= ls)\n",
    "\n",
    "\n",
    "\n",
    "disp.plot()\n",
    "plt.title(\"Zero Thresh Excess Green minus Red\")\n",
    "plt.show()\n",
    "\n",
    "accuracy = accuracy_score(stats_df.Reference, stats_df.Predicted_EXGR_Z)\n",
    "\n",
    "precision = precision_score(stats_df.Reference, stats_df.Predicted_EXGR_Z)\n",
    "\n",
    "recall = recall_score(stats_df.Reference, stats_df.Predicted_EXGR_Z)\n",
    "\n",
    "\n",
    "print(\"Overall Accuracy:\", accuracy, \"\\n\\n\"\n",
    "      \"Precision:\", precision, \"\\n\\n\"\n",
    "      \"Recall:\", recall)"
   ]
  },
  {
   "cell_type": "code",
   "execution_count": 20,
   "id": "29c16f19",
   "metadata": {},
   "outputs": [
    {
     "data": {
      "image/png": "[encoded data removed]",
      "text/plain": [
       "<Figure size 432x288 with 2 Axes>"
      ]
     },
     "metadata": {
      "needs_background": "light"
     },
     "output_type": "display_data"
    },
    {
     "name": "stdout",
     "output_type": "stream",
     "text": [
      "Overall Accuracy: 0.5553571428571429 \n",
      "\n",
      "Precision: 0.42835011618900076 \n",
      "\n",
      "Recall: 0.9839857651245552\n"
     ]
    }
   ],
   "source": [
    "cm =confusion_matrix(stats_df.Reference, stats_df.Predicted_GLI_Z)\n",
    "\n",
    "ls= [\"Ground\", \"Vegetation\"]\n",
    "\n",
    "\n",
    "disp= ConfusionMatrixDisplay(confusion_matrix = cm, display_labels= ls)\n",
    "\n",
    "\n",
    "\n",
    "disp.plot()\n",
    "plt.title(\"Zero Thresh Green Leaf Index\")\n",
    "plt.show()\n",
    "\n",
    "accuracy = accuracy_score(stats_df.Reference, stats_df.Predicted_GLI_Z)\n",
    "\n",
    "precision = precision_score(stats_df.Reference, stats_df.Predicted_GLI_Z)\n",
    "\n",
    "recall = recall_score(stats_df.Reference, stats_df.Predicted_GLI_Z)\n",
    "\n",
    "\n",
    "print(\"Overall Accuracy:\", accuracy, \"\\n\\n\"\n",
    "      \"Precision:\", precision, \"\\n\\n\"\n",
    "      \"Recall:\", recall)"
   ]
  },
  {
   "cell_type": "code",
   "execution_count": 22,
   "id": "2cdaccb4",
   "metadata": {},
   "outputs": [
    {
     "data": {
      "image/png": "[encoded data removed]",
      "text/plain": [
       "<Figure size 432x288 with 2 Axes>"
      ]
     },
     "metadata": {
      "needs_background": "light"
     },
     "output_type": "display_data"
    },
    {
     "name": "stdout",
     "output_type": "stream",
     "text": [
      "Overall Accuracy: 0.5553571428571429 \n",
      "\n",
      "Precision: 0.42835011618900076 \n",
      "\n",
      "Recall: 0.9839857651245552\n"
     ]
    }
   ],
   "source": [
    "cm =confusion_matrix(stats_df.Reference, stats_df.Predicted_VARI_Z)\n",
    "\n",
    "ls= [\"Ground\", \"Vegetation\"]\n",
    "\n",
    "\n",
    "disp= ConfusionMatrixDisplay(confusion_matrix = cm, display_labels= ls)\n",
    "\n",
    "\n",
    "\n",
    "disp.plot()\n",
    "plt.title(\"Zero Thresh Visible Atmospherically Resistant Index\")\n",
    "plt.show()\n",
    "\n",
    "accuracy = accuracy_score(stats_df.Reference, stats_df.Predicted_VARI_Z)\n",
    "\n",
    "precision = precision_score(stats_df.Reference, stats_df.Predicted_VARI_Z)\n",
    "\n",
    "recall = recall_score(stats_df.Reference, stats_df.Predicted_VARI_Z)\n",
    "\n",
    "\n",
    "print(\"Overall Accuracy:\", accuracy, \"\\n\\n\"\n",
    "      \"Precision:\", precision, \"\\n\\n\"\n",
    "      \"Recall:\", recall)"
   ]
  },
  {
   "cell_type": "code",
   "execution_count": null,
   "id": "85b79351",
   "metadata": {},
   "outputs": [],
   "source": []
  }
 ],
 "metadata": {
  "kernelspec": {
   "display_name": "Python 3 (ipykernel)",
   "language": "python",
   "name": "python3"
  },
  "language_info": {
   "codemirror_mode": {
    "name": "ipython",
    "version": 3
   },
   "file_extension": ".py",
   "mimetype": "text/x-python",
   "name": "python",
   "nbconvert_exporter": "python",
   "pygments_lexer": "ipython3",
   "version": "3.10.2"
  }
 },
 "nbformat": 4,
 "nbformat_minor": 5
}
